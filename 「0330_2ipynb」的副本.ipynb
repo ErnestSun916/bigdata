{
  "nbformat": 4,
  "nbformat_minor": 0,
  "metadata": {
    "colab": {
      "name": "「0330_2ipynb」的副本",
      "provenance": [],
      "collapsed_sections": [],
      "include_colab_link": true
    },
    "kernelspec": {
      "display_name": "R",
      "name": "ir"
    }
  },
  "cells": [
    {
      "cell_type": "markdown",
      "metadata": {
        "id": "view-in-github",
        "colab_type": "text"
      },
      "source": [
        "<a href=\"https://colab.research.google.com/github/ErnestSun916/bigdata/blob/main/%E3%80%8C0330_2ipynb%E3%80%8D%E7%9A%84%E5%89%AF%E6%9C%AC.ipynb\" target=\"_parent\"><img src=\"https://colab.research.google.com/assets/colab-badge.svg\" alt=\"Open In Colab\"/></a>"
      ]
    },
    {
      "cell_type": "code",
      "metadata": {
        "colab": {
          "base_uri": "https://localhost:8080/"
        },
        "id": "Y-7R7jQkKkRb",
        "outputId": "b4218373-93ec-4306-ceb2-9e9152cc5fa0"
      },
      "source": [
        "install.packages(\"rJava\")"
      ],
      "execution_count": null,
      "outputs": [
        {
          "output_type": "stream",
          "text": [
            "Installing package into ‘/usr/local/lib/R/site-library’\n",
            "(as ‘lib’ is unspecified)\n",
            "\n"
          ],
          "name": "stderr"
        }
      ]
    },
    {
      "cell_type": "code",
      "metadata": {
        "colab": {
          "base_uri": "https://localhost:8080/"
        },
        "id": "v6fo6sCQKkUJ",
        "outputId": "3390e682-cf13-43b1-87e4-31a951867003"
      },
      "source": [
        "install.packages(\"jiebaR\")"
      ],
      "execution_count": null,
      "outputs": [
        {
          "output_type": "stream",
          "text": [
            "Installing package into ‘/usr/local/lib/R/site-library’\n",
            "(as ‘lib’ is unspecified)\n",
            "\n",
            "also installing the dependency ‘jiebaRD’\n",
            "\n",
            "\n"
          ],
          "name": "stderr"
        }
      ]
    },
    {
      "cell_type": "code",
      "metadata": {
        "colab": {
          "base_uri": "https://localhost:8080/"
        },
        "id": "RUXjqqOaKkXd",
        "outputId": "8bbb6524-f5af-4ce3-e07b-b3beeeffb8f2"
      },
      "source": [
        "install.packages(\"tmcn\")"
      ],
      "execution_count": null,
      "outputs": [
        {
          "output_type": "stream",
          "text": [
            "Installing package into ‘/usr/local/lib/R/site-library’\n",
            "(as ‘lib’ is unspecified)\n",
            "\n"
          ],
          "name": "stderr"
        }
      ]
    },
    {
      "cell_type": "code",
      "metadata": {
        "colab": {
          "base_uri": "https://localhost:8080/"
        },
        "id": "LtEYGbRqKkaL",
        "outputId": "d8499431-f2be-47ec-a345-5aa4d5cdb6fc"
      },
      "source": [
        "install.packages(\"dplyr\")"
      ],
      "execution_count": null,
      "outputs": [
        {
          "output_type": "stream",
          "text": [
            "Installing package into ‘/usr/local/lib/R/site-library’\n",
            "(as ‘lib’ is unspecified)\n",
            "\n"
          ],
          "name": "stderr"
        }
      ]
    },
    {
      "cell_type": "code",
      "metadata": {
        "colab": {
          "base_uri": "https://localhost:8080/"
        },
        "id": "bZ832E8kKkcx",
        "outputId": "4a7eb865-6b7c-4c78-827b-076efbd9a962"
      },
      "source": [
        "install.packages(\"lubridate\")"
      ],
      "execution_count": null,
      "outputs": [
        {
          "output_type": "stream",
          "text": [
            "Installing package into ‘/usr/local/lib/R/site-library’\n",
            "(as ‘lib’ is unspecified)\n",
            "\n"
          ],
          "name": "stderr"
        }
      ]
    },
    {
      "cell_type": "code",
      "metadata": {
        "colab": {
          "base_uri": "https://localhost:8080/"
        },
        "id": "6pIDmNG6Kkgm",
        "outputId": "f8134296-8693-4b03-f4b8-0c3f865869f9"
      },
      "source": [
        "install.packages(\"stringr\")"
      ],
      "execution_count": null,
      "outputs": [
        {
          "output_type": "stream",
          "text": [
            "Installing package into ‘/usr/local/lib/R/site-library’\n",
            "(as ‘lib’ is unspecified)\n",
            "\n"
          ],
          "name": "stderr"
        }
      ]
    },
    {
      "cell_type": "code",
      "metadata": {
        "colab": {
          "base_uri": "https://localhost:8080/"
        },
        "id": "ujnm1J9XKkkk",
        "outputId": "eaede181-452d-40fd-cdd0-157daa7dc471"
      },
      "source": [
        "install.packages(\"wordcloud\")"
      ],
      "execution_count": null,
      "outputs": [
        {
          "output_type": "stream",
          "text": [
            "Installing package into ‘/usr/local/lib/R/site-library’\n",
            "(as ‘lib’ is unspecified)\n",
            "\n"
          ],
          "name": "stderr"
        }
      ]
    },
    {
      "cell_type": "code",
      "metadata": {
        "colab": {
          "base_uri": "https://localhost:8080/"
        },
        "id": "XDZd0WjvMzZc",
        "outputId": "bdfab6f3-3728-4378-ffc2-b7735f082994"
      },
      "source": [
        "install.packages(\"Rwordseg\",repos=\"http:/R-Forge.R-project.org\")"
      ],
      "execution_count": null,
      "outputs": [
        {
          "output_type": "stream",
          "text": [
            "Installing package into ‘/usr/local/lib/R/site-library’\n",
            "(as ‘lib’ is unspecified)\n",
            "\n",
            "Warning message:\n",
            "“dependency ‘HMM’ is not available”\n",
            "Warning message in install.packages(\"Rwordseg\", repos = \"http:/R-Forge.R-project.org\"):\n",
            "“installation of package ‘Rwordseg’ had non-zero exit status”\n"
          ],
          "name": "stderr"
        }
      ]
    },
    {
      "cell_type": "code",
      "metadata": {
        "colab": {
          "base_uri": "https://localhost:8080/"
        },
        "id": "DeGxGTj0Ojov",
        "outputId": "c4fcab6b-b1ee-4d84-db52-a90c97b56081"
      },
      "source": [
        "library(dplyr)"
      ],
      "execution_count": null,
      "outputs": [
        {
          "output_type": "stream",
          "text": [
            "\n",
            "Attaching package: ‘dplyr’\n",
            "\n",
            "\n",
            "The following objects are masked from ‘package:stats’:\n",
            "\n",
            "    filter, lag\n",
            "\n",
            "\n",
            "The following objects are masked from ‘package:base’:\n",
            "\n",
            "    intersect, setdiff, setequal, union\n",
            "\n",
            "\n"
          ],
          "name": "stderr"
        }
      ]
    },
    {
      "cell_type": "code",
      "metadata": {
        "colab": {
          "base_uri": "https://localhost:8080/"
        },
        "id": "qtLVH7rXOkzI",
        "outputId": "a7e6ad67-5622-4f08-c30c-64a29c1b416f"
      },
      "source": [
        "library(lubridate)"
      ],
      "execution_count": null,
      "outputs": [
        {
          "output_type": "stream",
          "text": [
            "Warning message in system(\"timedatectl\", intern = TRUE):\n",
            "“running command 'timedatectl' had status 1”\n",
            "\n",
            "Attaching package: ‘lubridate’\n",
            "\n",
            "\n",
            "The following objects are masked from ‘package:base’:\n",
            "\n",
            "    date, intersect, setdiff, union\n",
            "\n",
            "\n"
          ],
          "name": "stderr"
        }
      ]
    },
    {
      "cell_type": "code",
      "metadata": {
        "id": "GoYTKsLLOk5L"
      },
      "source": [
        "library(stringr)"
      ],
      "execution_count": null,
      "outputs": []
    },
    {
      "cell_type": "code",
      "metadata": {
        "id": "95j_9BGwOk77",
        "colab": {
          "base_uri": "https://localhost:8080/"
        },
        "outputId": "3a523dfc-0d85-4b80-9557-57fb222155fd"
      },
      "source": [
        "library(jiebaR)"
      ],
      "execution_count": null,
      "outputs": [
        {
          "output_type": "stream",
          "text": [
            "Loading required package: jiebaRD\n",
            "\n"
          ],
          "name": "stderr"
        }
      ]
    },
    {
      "cell_type": "code",
      "metadata": {
        "colab": {
          "base_uri": "https://localhost:8080/"
        },
        "id": "xrHJsSW5OyDd",
        "outputId": "9609c90e-a828-45ac-9541-efc1df53d964"
      },
      "source": [
        "library(wordcloud)"
      ],
      "execution_count": null,
      "outputs": [
        {
          "output_type": "stream",
          "text": [
            "Loading required package: RColorBrewer\n",
            "\n"
          ],
          "name": "stderr"
        }
      ]
    },
    {
      "cell_type": "code",
      "metadata": {
        "id": "w-YWi2wjNqrN"
      },
      "source": [
        "content<-\"疾病管制署公布我國本流感季(2020年10月以來)首例流感併發重症死亡病例；近期國內流感疫情雖在低點，提醒民眾仍應做好個人手部及呼吸道衛生，並留意自身及親友健康情形；尚未接種流感疫苗的民眾也應儘快接種，以降低流感病毒對健康的威脅。\n",
        "\n",
        "疾管署表示，新增之流感併發重症死亡病例為80多歲男性，有慢性病史，未接種流感疫苗，今(2021)年3月21日因嘔吐、呼吸急促就醫並收治住院，經診斷有吸入性肺炎等情形，轉至加護病房治療，3月25日通報，因檢出A型流感，3月27日研判為流感併發重症，同日個案病情惡化，不幸病逝。\n",
        "\n",
        "依據疾管署監測資料顯示，上週(3月21日至3月27日)國內類流感門急診就診共29,261人次，近期處低點，近4週社區呼吸道病毒分離以腺病毒為多，其次為單純疱疹病毒及副流感病毒；國內自去(2020)年10月迄今累計2例流感併發重症病例，分別感染H3N2、A型(待分型)，死亡病例累計1例，重症病例數及死亡病例數均明顯低於前4個流感季同期(同期病例數為360至966例、死亡病例數為56至159例)。\n",
        "\n",
        "截至今年3月28日，本流感季公費流感疫苗總接種數約619.3萬劑，65歲以上長者接種率52.5%，學齡前幼兒接種率51.1%。我國自今年1月30日起，公費流感疫苗擴大提供全國6個月以上尚未接種的本國籍民眾接種(如為外籍人士，需為申請中或持有居留證，包含外交官員證、國際機構官員證及外國機構官員證)，至疫苗用罄為止，籲請尚未接種流感疫苗的民眾儘速完成接種，以提升保護力，保護自身及家人健康。\n",
        "\n",
        "此外，也提醒民眾落實勤洗手及咳嗽禮節等衛生防護措施，有呼吸道症狀時應佩戴口罩；打噴嚏時應用面紙或手帕遮住口鼻，或用衣袖代替；與他人交談時，請保持安全社交距離。民眾如有類流感症狀，應就近就醫並充分休息，以降低病毒傳播的機會。\""
      ],
      "execution_count": null,
      "outputs": []
    },
    {
      "cell_type": "code",
      "metadata": {
        "id": "r8CFS3UoN9kZ"
      },
      "source": [
        "cutter<-worker(bylines= F)#"
      ],
      "execution_count": null,
      "outputs": []
    },
    {
      "cell_type": "code",
      "metadata": {
        "colab": {
          "base_uri": "https://localhost:8080/",
          "height": 260
        },
        "id": "Kx7KccVvOSZu",
        "outputId": "bb9a24bf-814b-4c8d-b7c1-f91117ebfe0d"
      },
      "source": [
        "cutter[content]"
      ],
      "execution_count": null,
      "outputs": [
        {
          "output_type": "display_data",
          "data": {
            "text/plain": [
              "  [1] \"疾病\"     \"管制\"     \"署\"       \"公布\"     \"我國\"     \"本\"      \n",
              "  [7] \"流感\"     \"季\"       \"2020\"     \"年\"       \"10\"       \"月\"      \n",
              " [13] \"以來\"     \"首例\"     \"流感\"     \"併發\"     \"重症\"     \"死亡\"    \n",
              " [19] \"病例\"     \"近期\"     \"國內\"     \"流感\"     \"疫情\"     \"雖\"      \n",
              " [25] \"在\"       \"低點\"     \"提醒\"     \"民眾\"     \"仍\"       \"應\"      \n",
              " [31] \"做好\"     \"個人\"     \"手部\"     \"及\"       \"呼吸道\"   \"衛生\"    \n",
              " [37] \"並\"       \"留意\"     \"自身\"     \"及\"       \"親友\"     \"健康\"    \n",
              " [43] \"情形\"     \"尚未\"     \"接種\"     \"流感疫苗\" \"的\"       \"民眾\"    \n",
              " [49] \"也\"       \"應\"       \"儘快\"     \"接種\"     \"以\"       \"降低\"    \n",
              " [55] \"流感病毒\" \"對\"       \"健康\"     \"的\"       \"威脅\"     \"疾管署\"  \n",
              " [61] \"表示\"     \"新增\"     \"之\"       \"流感\"     \"併發\"     \"重症\"    \n",
              " [67] \"死亡\"     \"病例\"     \"為\"       \"80\"       \"多歲\"     \"男性\"    \n",
              " [73] \"有\"       \"慢性病\"   \"史\"       \"未\"       \"接種\"     \"流感疫苗\"\n",
              " [79] \"今\"       \"2021\"     \"年\"       \"3\"        \"月\"       \"21\"      \n",
              " [85] \"日因\"     \"嘔吐\"     \"呼吸\"     \"急促\"     \"就醫\"     \"並\"      \n",
              " [91] \"收治\"     \"住院\"     \"經\"       \"診斷\"     \"有\"       \"吸入性\"  \n",
              " [97] \"肺炎\"     \"等\"       \"情形\"     \"轉至\"     \"加護\"     \"病房\"    \n",
              "[103] \"治療\"     \"3\"        \"月\"       \"25\"       \"日\"       \"通報\"    \n",
              "[109] \"因\"       \"檢出\"     \"A型\"      \"流感\"     \"3\"        \"月\"      \n",
              "[115] \"27\"       \"日\"       \"研判\"     \"為\"       \"流感\"     \"併發\"    \n",
              "[121] \"重症\"     \"同日\"     \"個案\"     \"病情惡化\" \"不幸\"     \"病逝\"    \n",
              "[127] \"依據\"     \"疾管署\"   \"監測\"     \"資料\"     \"顯示\"     \"上週\"    \n",
              "[133] \"3\"        \"月\"       \"21\"       \"日至\"     \"3\"        \"月\"      \n",
              "[139] \"27\"       \"日\"       \"國內\"     \"類\"       \"流感\"     \"門急診\"  \n",
              "[145] \"就診\"     \"共\"       \"29\"       \"261\"      \"人次\"     \"近期\"    \n",
              "[151] \"處\"       \"低點\"     \"近\"       \"4\"        \"週\"       \"社區\"    \n",
              "[157] \"呼吸道\"   \"病毒\"     \"分離\"     \"以\"       \"腺病毒\"   \"為\"      \n",
              "[163] \"多\"       \"其次\"     \"為\"       \"單純\"     \"疱疹病毒\" \"及\"      \n",
              "[169] \"副\"       \"流感病毒\" \"國內\"     \"自去\"     \"2020\"     \"年\"      \n",
              "[175] \"10\"       \"月\"       \"迄今\"     \"累計\"     \"2\"        \"例\"      \n",
              "[181] \"流感\"     \"併發\"     \"重症\"     \"病例\"     \"分別\"     \"感染\"    \n",
              "[187] \"H3N2\"     \"A型\"      \"待\"       \"分型\"     \"死亡\"     \"病例\"    \n",
              "[193] \"累計\"     \"1\"        \"例\"       \"重症\"     \"病\"       \"例數\"    \n",
              "[199] \"及\"       \"死亡\"     \"病\"       \"例數\"     \"均\"       \"明顯\"    \n",
              "[205] \"低於\"     \"前\"       \"4\"        \"個\"       \"流感\"     \"季\"      \n",
              "[211] \"同期\"     \"同期\"     \"病\"       \"例數\"     \"為\"       \"360\"     \n",
              "[217] \"至\"       \"966\"      \"例\"       \"死亡\"     \"病\"       \"例數\"    \n",
              "[223] \"為\"       \"56\"       \"至\"       \"159\"      \"例\"       \"截至\"    \n",
              "[229] \"今年\"     \"3\"        \"月\"       \"28\"       \"日\"       \"本\"      \n",
              "[235] \"流感\"     \"季\"       \"公費\"     \"流感疫苗\" \"總接\"     \"種數\"    \n",
              "[241] \"約\"       \"619.3\"    \"萬劑\"     \"65\"       \"歲\"       \"以上\"    \n",
              "[247] \"長者\"     \"接種率\"   \"52.5\"     \"學齡前\"   \"幼兒\"     \"接種率\"  \n",
              "[253] \"51.1\"     \"我國\"     \"自\"       \"今年\"     \"1\"        \"月\"      \n",
              "[259] \"30\"       \"日起\"     \"公費\"     \"流感疫苗\" \"擴大\"     \"提供\"    \n",
              "[265] \"全國\"     \"6\"        \"個\"       \"月\"       \"以上\"     \"尚未\"    \n",
              "[271] \"接種\"     \"的\"       \"本\"       \"國籍\"     \"民眾\"     \"接種\"    \n",
              "[277] \"如為\"     \"外籍人士\" \"需為\"     \"申請\"     \"中\"       \"或\"      \n",
              "[283] \"持有\"     \"居留證\"   \"包含\"     \"外交\"     \"官員\"     \"證\"      \n",
              "[289] \"國際\"     \"機構\"     \"官員\"     \"證及\"     \"外國\"     \"機構\"    \n",
              "[295] \"官員\"     \"證\"       \"至\"       \"疫苗\"     \"用\"       \"罄\"      \n",
              "[301] \"為止\"     \"籲請\"     \"尚未\"     \"接種\"     \"流感疫苗\" \"的\"      \n",
              "[307] \"民眾\"     \"儘速\"     \"完成\"     \"接種\"     \"以\"       \"提升\"    \n",
              "[313] \"保護\"     \"力\"       \"保護\"     \"自身\"     \"及\"       \"家人\"    \n",
              "[319] \"健康\"     \"此外\"     \"也\"       \"提醒\"     \"民眾\"     \"落實\"    \n",
              "[325] \"勤洗手\"   \"及\"       \"咳嗽\"     \"禮節\"     \"等\"       \"衛生防護\"\n",
              "[331] \"措施\"     \"有\"       \"呼吸道\"   \"症\"       \"狀\"       \"時\"      \n",
              "[337] \"應\"       \"佩戴\"     \"口罩\"     \"打噴嚏\"   \"時\"       \"應用\"    \n",
              "[343] \"面紙\"     \"或\"       \"手帕\"     \"遮住\"     \"口\"       \"鼻\"      \n",
              "[349] \"或用\"     \"衣袖\"     \"代替\"     \"與\"       \"他人\"     \"交談\"    \n",
              "[355] \"時\"       \"請\"       \"保持\"     \"安全\"     \"社交\"     \"距離\"    \n",
              "[361] \"民眾\"     \"如有類\"   \"流感\"     \"症狀\"     \"應\"       \"就近\"    \n",
              "[367] \"就醫\"     \"並\"       \"充分\"     \"休息\"     \"以\"       \"降低\"    \n",
              "[373] \"病毒傳播\" \"的\"       \"機會\"    "
            ],
            "text/latex": "\\begin{enumerate*}\n\\item '疾病'\n\\item '管制'\n\\item '署'\n\\item '公布'\n\\item '我國'\n\\item '本'\n\\item '流感'\n\\item '季'\n\\item '2020'\n\\item '年'\n\\item '10'\n\\item '月'\n\\item '以來'\n\\item '首例'\n\\item '流感'\n\\item '併發'\n\\item '重症'\n\\item '死亡'\n\\item '病例'\n\\item '近期'\n\\item '國內'\n\\item '流感'\n\\item '疫情'\n\\item '雖'\n\\item '在'\n\\item '低點'\n\\item '提醒'\n\\item '民眾'\n\\item '仍'\n\\item '應'\n\\item '做好'\n\\item '個人'\n\\item '手部'\n\\item '及'\n\\item '呼吸道'\n\\item '衛生'\n\\item '並'\n\\item '留意'\n\\item '自身'\n\\item '及'\n\\item '親友'\n\\item '健康'\n\\item '情形'\n\\item '尚未'\n\\item '接種'\n\\item '流感疫苗'\n\\item '的'\n\\item '民眾'\n\\item '也'\n\\item '應'\n\\item '儘快'\n\\item '接種'\n\\item '以'\n\\item '降低'\n\\item '流感病毒'\n\\item '對'\n\\item '健康'\n\\item '的'\n\\item '威脅'\n\\item '疾管署'\n\\item '表示'\n\\item '新增'\n\\item '之'\n\\item '流感'\n\\item '併發'\n\\item '重症'\n\\item '死亡'\n\\item '病例'\n\\item '為'\n\\item '80'\n\\item '多歲'\n\\item '男性'\n\\item '有'\n\\item '慢性病'\n\\item '史'\n\\item '未'\n\\item '接種'\n\\item '流感疫苗'\n\\item '今'\n\\item '2021'\n\\item '年'\n\\item '3'\n\\item '月'\n\\item '21'\n\\item '日因'\n\\item '嘔吐'\n\\item '呼吸'\n\\item '急促'\n\\item '就醫'\n\\item '並'\n\\item '收治'\n\\item '住院'\n\\item '經'\n\\item '診斷'\n\\item '有'\n\\item '吸入性'\n\\item '肺炎'\n\\item '等'\n\\item '情形'\n\\item '轉至'\n\\item '加護'\n\\item '病房'\n\\item '治療'\n\\item '3'\n\\item '月'\n\\item '25'\n\\item '日'\n\\item '通報'\n\\item '因'\n\\item '檢出'\n\\item 'A型'\n\\item '流感'\n\\item '3'\n\\item '月'\n\\item '27'\n\\item '日'\n\\item '研判'\n\\item '為'\n\\item '流感'\n\\item '併發'\n\\item '重症'\n\\item '同日'\n\\item '個案'\n\\item '病情惡化'\n\\item '不幸'\n\\item '病逝'\n\\item '依據'\n\\item '疾管署'\n\\item '監測'\n\\item '資料'\n\\item '顯示'\n\\item '上週'\n\\item '3'\n\\item '月'\n\\item '21'\n\\item '日至'\n\\item '3'\n\\item '月'\n\\item '27'\n\\item '日'\n\\item '國內'\n\\item '類'\n\\item '流感'\n\\item '門急診'\n\\item '就診'\n\\item '共'\n\\item '29'\n\\item '261'\n\\item '人次'\n\\item '近期'\n\\item '處'\n\\item '低點'\n\\item '近'\n\\item '4'\n\\item '週'\n\\item '社區'\n\\item '呼吸道'\n\\item '病毒'\n\\item '分離'\n\\item '以'\n\\item '腺病毒'\n\\item '為'\n\\item '多'\n\\item '其次'\n\\item '為'\n\\item '單純'\n\\item '疱疹病毒'\n\\item '及'\n\\item '副'\n\\item '流感病毒'\n\\item '國內'\n\\item '自去'\n\\item '2020'\n\\item '年'\n\\item '10'\n\\item '月'\n\\item '迄今'\n\\item '累計'\n\\item '2'\n\\item '例'\n\\item '流感'\n\\item '併發'\n\\item '重症'\n\\item '病例'\n\\item '分別'\n\\item '感染'\n\\item 'H3N2'\n\\item 'A型'\n\\item '待'\n\\item '分型'\n\\item '死亡'\n\\item '病例'\n\\item '累計'\n\\item '1'\n\\item '例'\n\\item '重症'\n\\item '病'\n\\item '例數'\n\\item '及'\n\\item '死亡'\n\\item '病'\n\\item '例數'\n\\item '均'\n\\item '明顯'\n\\item '低於'\n\\item '前'\n\\item '4'\n\\item '個'\n\\item '流感'\n\\item '季'\n\\item '同期'\n\\item '同期'\n\\item '病'\n\\item '例數'\n\\item '為'\n\\item '360'\n\\item '至'\n\\item '966'\n\\item '例'\n\\item '死亡'\n\\item '病'\n\\item '例數'\n\\item '為'\n\\item '56'\n\\item '至'\n\\item '159'\n\\item '例'\n\\item '截至'\n\\item '今年'\n\\item '3'\n\\item '月'\n\\item '28'\n\\item '日'\n\\item '本'\n\\item '流感'\n\\item '季'\n\\item '公費'\n\\item '流感疫苗'\n\\item '總接'\n\\item '種數'\n\\item '約'\n\\item '619.3'\n\\item '萬劑'\n\\item '65'\n\\item '歲'\n\\item '以上'\n\\item '長者'\n\\item '接種率'\n\\item '52.5'\n\\item '學齡前'\n\\item '幼兒'\n\\item '接種率'\n\\item '51.1'\n\\item '我國'\n\\item '自'\n\\item '今年'\n\\item '1'\n\\item '月'\n\\item '30'\n\\item '日起'\n\\item '公費'\n\\item '流感疫苗'\n\\item '擴大'\n\\item '提供'\n\\item '全國'\n\\item '6'\n\\item '個'\n\\item '月'\n\\item '以上'\n\\item '尚未'\n\\item '接種'\n\\item '的'\n\\item '本'\n\\item '國籍'\n\\item '民眾'\n\\item '接種'\n\\item '如為'\n\\item '外籍人士'\n\\item '需為'\n\\item '申請'\n\\item '中'\n\\item '或'\n\\item '持有'\n\\item '居留證'\n\\item '包含'\n\\item '外交'\n\\item '官員'\n\\item '證'\n\\item '國際'\n\\item '機構'\n\\item '官員'\n\\item '證及'\n\\item '外國'\n\\item '機構'\n\\item '官員'\n\\item '證'\n\\item '至'\n\\item '疫苗'\n\\item '用'\n\\item '罄'\n\\item '為止'\n\\item '籲請'\n\\item '尚未'\n\\item '接種'\n\\item '流感疫苗'\n\\item '的'\n\\item '民眾'\n\\item '儘速'\n\\item '完成'\n\\item '接種'\n\\item '以'\n\\item '提升'\n\\item '保護'\n\\item '力'\n\\item '保護'\n\\item '自身'\n\\item '及'\n\\item '家人'\n\\item '健康'\n\\item '此外'\n\\item '也'\n\\item '提醒'\n\\item '民眾'\n\\item '落實'\n\\item '勤洗手'\n\\item '及'\n\\item '咳嗽'\n\\item '禮節'\n\\item '等'\n\\item '衛生防護'\n\\item '措施'\n\\item '有'\n\\item '呼吸道'\n\\item '症'\n\\item '狀'\n\\item '時'\n\\item '應'\n\\item '佩戴'\n\\item '口罩'\n\\item '打噴嚏'\n\\item '時'\n\\item '應用'\n\\item '面紙'\n\\item '或'\n\\item '手帕'\n\\item '遮住'\n\\item '口'\n\\item '鼻'\n\\item '或用'\n\\item '衣袖'\n\\item '代替'\n\\item '與'\n\\item '他人'\n\\item '交談'\n\\item '時'\n\\item '請'\n\\item '保持'\n\\item '安全'\n\\item '社交'\n\\item '距離'\n\\item '民眾'\n\\item '如有類'\n\\item '流感'\n\\item '症狀'\n\\item '應'\n\\item '就近'\n\\item '就醫'\n\\item '並'\n\\item '充分'\n\\item '休息'\n\\item '以'\n\\item '降低'\n\\item '病毒傳播'\n\\item '的'\n\\item '機會'\n\\end{enumerate*}\n",
            "text/markdown": "1. '疾病'\n2. '管制'\n3. '署'\n4. '公布'\n5. '我國'\n6. '本'\n7. '流感'\n8. '季'\n9. '2020'\n10. '年'\n11. '10'\n12. '月'\n13. '以來'\n14. '首例'\n15. '流感'\n16. '併發'\n17. '重症'\n18. '死亡'\n19. '病例'\n20. '近期'\n21. '國內'\n22. '流感'\n23. '疫情'\n24. '雖'\n25. '在'\n26. '低點'\n27. '提醒'\n28. '民眾'\n29. '仍'\n30. '應'\n31. '做好'\n32. '個人'\n33. '手部'\n34. '及'\n35. '呼吸道'\n36. '衛生'\n37. '並'\n38. '留意'\n39. '自身'\n40. '及'\n41. '親友'\n42. '健康'\n43. '情形'\n44. '尚未'\n45. '接種'\n46. '流感疫苗'\n47. '的'\n48. '民眾'\n49. '也'\n50. '應'\n51. '儘快'\n52. '接種'\n53. '以'\n54. '降低'\n55. '流感病毒'\n56. '對'\n57. '健康'\n58. '的'\n59. '威脅'\n60. '疾管署'\n61. '表示'\n62. '新增'\n63. '之'\n64. '流感'\n65. '併發'\n66. '重症'\n67. '死亡'\n68. '病例'\n69. '為'\n70. '80'\n71. '多歲'\n72. '男性'\n73. '有'\n74. '慢性病'\n75. '史'\n76. '未'\n77. '接種'\n78. '流感疫苗'\n79. '今'\n80. '2021'\n81. '年'\n82. '3'\n83. '月'\n84. '21'\n85. '日因'\n86. '嘔吐'\n87. '呼吸'\n88. '急促'\n89. '就醫'\n90. '並'\n91. '收治'\n92. '住院'\n93. '經'\n94. '診斷'\n95. '有'\n96. '吸入性'\n97. '肺炎'\n98. '等'\n99. '情形'\n100. '轉至'\n101. '加護'\n102. '病房'\n103. '治療'\n104. '3'\n105. '月'\n106. '25'\n107. '日'\n108. '通報'\n109. '因'\n110. '檢出'\n111. 'A型'\n112. '流感'\n113. '3'\n114. '月'\n115. '27'\n116. '日'\n117. '研判'\n118. '為'\n119. '流感'\n120. '併發'\n121. '重症'\n122. '同日'\n123. '個案'\n124. '病情惡化'\n125. '不幸'\n126. '病逝'\n127. '依據'\n128. '疾管署'\n129. '監測'\n130. '資料'\n131. '顯示'\n132. '上週'\n133. '3'\n134. '月'\n135. '21'\n136. '日至'\n137. '3'\n138. '月'\n139. '27'\n140. '日'\n141. '國內'\n142. '類'\n143. '流感'\n144. '門急診'\n145. '就診'\n146. '共'\n147. '29'\n148. '261'\n149. '人次'\n150. '近期'\n151. '處'\n152. '低點'\n153. '近'\n154. '4'\n155. '週'\n156. '社區'\n157. '呼吸道'\n158. '病毒'\n159. '分離'\n160. '以'\n161. '腺病毒'\n162. '為'\n163. '多'\n164. '其次'\n165. '為'\n166. '單純'\n167. '疱疹病毒'\n168. '及'\n169. '副'\n170. '流感病毒'\n171. '國內'\n172. '自去'\n173. '2020'\n174. '年'\n175. '10'\n176. '月'\n177. '迄今'\n178. '累計'\n179. '2'\n180. '例'\n181. '流感'\n182. '併發'\n183. '重症'\n184. '病例'\n185. '分別'\n186. '感染'\n187. 'H3N2'\n188. 'A型'\n189. '待'\n190. '分型'\n191. '死亡'\n192. '病例'\n193. '累計'\n194. '1'\n195. '例'\n196. '重症'\n197. '病'\n198. '例數'\n199. '及'\n200. '死亡'\n201. '病'\n202. '例數'\n203. '均'\n204. '明顯'\n205. '低於'\n206. '前'\n207. '4'\n208. '個'\n209. '流感'\n210. '季'\n211. '同期'\n212. '同期'\n213. '病'\n214. '例數'\n215. '為'\n216. '360'\n217. '至'\n218. '966'\n219. '例'\n220. '死亡'\n221. '病'\n222. '例數'\n223. '為'\n224. '56'\n225. '至'\n226. '159'\n227. '例'\n228. '截至'\n229. '今年'\n230. '3'\n231. '月'\n232. '28'\n233. '日'\n234. '本'\n235. '流感'\n236. '季'\n237. '公費'\n238. '流感疫苗'\n239. '總接'\n240. '種數'\n241. '約'\n242. '619.3'\n243. '萬劑'\n244. '65'\n245. '歲'\n246. '以上'\n247. '長者'\n248. '接種率'\n249. '52.5'\n250. '學齡前'\n251. '幼兒'\n252. '接種率'\n253. '51.1'\n254. '我國'\n255. '自'\n256. '今年'\n257. '1'\n258. '月'\n259. '30'\n260. '日起'\n261. '公費'\n262. '流感疫苗'\n263. '擴大'\n264. '提供'\n265. '全國'\n266. '6'\n267. '個'\n268. '月'\n269. '以上'\n270. '尚未'\n271. '接種'\n272. '的'\n273. '本'\n274. '國籍'\n275. '民眾'\n276. '接種'\n277. '如為'\n278. '外籍人士'\n279. '需為'\n280. '申請'\n281. '中'\n282. '或'\n283. '持有'\n284. '居留證'\n285. '包含'\n286. '外交'\n287. '官員'\n288. '證'\n289. '國際'\n290. '機構'\n291. '官員'\n292. '證及'\n293. '外國'\n294. '機構'\n295. '官員'\n296. '證'\n297. '至'\n298. '疫苗'\n299. '用'\n300. '罄'\n301. '為止'\n302. '籲請'\n303. '尚未'\n304. '接種'\n305. '流感疫苗'\n306. '的'\n307. '民眾'\n308. '儘速'\n309. '完成'\n310. '接種'\n311. '以'\n312. '提升'\n313. '保護'\n314. '力'\n315. '保護'\n316. '自身'\n317. '及'\n318. '家人'\n319. '健康'\n320. '此外'\n321. '也'\n322. '提醒'\n323. '民眾'\n324. '落實'\n325. '勤洗手'\n326. '及'\n327. '咳嗽'\n328. '禮節'\n329. '等'\n330. '衛生防護'\n331. '措施'\n332. '有'\n333. '呼吸道'\n334. '症'\n335. '狀'\n336. '時'\n337. '應'\n338. '佩戴'\n339. '口罩'\n340. '打噴嚏'\n341. '時'\n342. '應用'\n343. '面紙'\n344. '或'\n345. '手帕'\n346. '遮住'\n347. '口'\n348. '鼻'\n349. '或用'\n350. '衣袖'\n351. '代替'\n352. '與'\n353. '他人'\n354. '交談'\n355. '時'\n356. '請'\n357. '保持'\n358. '安全'\n359. '社交'\n360. '距離'\n361. '民眾'\n362. '如有類'\n363. '流感'\n364. '症狀'\n365. '應'\n366. '就近'\n367. '就醫'\n368. '並'\n369. '充分'\n370. '休息'\n371. '以'\n372. '降低'\n373. '病毒傳播'\n374. '的'\n375. '機會'\n\n\n",
            "text/html": [
              "<style>\n",
              ".list-inline {list-style: none; margin:0; padding: 0}\n",
              ".list-inline>li {display: inline-block}\n",
              ".list-inline>li:not(:last-child)::after {content: \"\\00b7\"; padding: 0 .5ex}\n",
              "</style>\n",
              "<ol class=list-inline><li>'疾病'</li><li>'管制'</li><li>'署'</li><li>'公布'</li><li>'我國'</li><li>'本'</li><li>'流感'</li><li>'季'</li><li>'2020'</li><li>'年'</li><li>'10'</li><li>'月'</li><li>'以來'</li><li>'首例'</li><li>'流感'</li><li>'併發'</li><li>'重症'</li><li>'死亡'</li><li>'病例'</li><li>'近期'</li><li>'國內'</li><li>'流感'</li><li>'疫情'</li><li>'雖'</li><li>'在'</li><li>'低點'</li><li>'提醒'</li><li>'民眾'</li><li>'仍'</li><li>'應'</li><li>'做好'</li><li>'個人'</li><li>'手部'</li><li>'及'</li><li>'呼吸道'</li><li>'衛生'</li><li>'並'</li><li>'留意'</li><li>'自身'</li><li>'及'</li><li>'親友'</li><li>'健康'</li><li>'情形'</li><li>'尚未'</li><li>'接種'</li><li>'流感疫苗'</li><li>'的'</li><li>'民眾'</li><li>'也'</li><li>'應'</li><li>'儘快'</li><li>'接種'</li><li>'以'</li><li>'降低'</li><li>'流感病毒'</li><li>'對'</li><li>'健康'</li><li>'的'</li><li>'威脅'</li><li>'疾管署'</li><li>'表示'</li><li>'新增'</li><li>'之'</li><li>'流感'</li><li>'併發'</li><li>'重症'</li><li>'死亡'</li><li>'病例'</li><li>'為'</li><li>'80'</li><li>'多歲'</li><li>'男性'</li><li>'有'</li><li>'慢性病'</li><li>'史'</li><li>'未'</li><li>'接種'</li><li>'流感疫苗'</li><li>'今'</li><li>'2021'</li><li>'年'</li><li>'3'</li><li>'月'</li><li>'21'</li><li>'日因'</li><li>'嘔吐'</li><li>'呼吸'</li><li>'急促'</li><li>'就醫'</li><li>'並'</li><li>'收治'</li><li>'住院'</li><li>'經'</li><li>'診斷'</li><li>'有'</li><li>'吸入性'</li><li>'肺炎'</li><li>'等'</li><li>'情形'</li><li>'轉至'</li><li>'加護'</li><li>'病房'</li><li>'治療'</li><li>'3'</li><li>'月'</li><li>'25'</li><li>'日'</li><li>'通報'</li><li>'因'</li><li>'檢出'</li><li>'A型'</li><li>'流感'</li><li>'3'</li><li>'月'</li><li>'27'</li><li>'日'</li><li>'研判'</li><li>'為'</li><li>'流感'</li><li>'併發'</li><li>'重症'</li><li>'同日'</li><li>'個案'</li><li>'病情惡化'</li><li>'不幸'</li><li>'病逝'</li><li>'依據'</li><li>'疾管署'</li><li>'監測'</li><li>'資料'</li><li>'顯示'</li><li>'上週'</li><li>'3'</li><li>'月'</li><li>'21'</li><li>'日至'</li><li>'3'</li><li>'月'</li><li>'27'</li><li>'日'</li><li>'國內'</li><li>'類'</li><li>'流感'</li><li>'門急診'</li><li>'就診'</li><li>'共'</li><li>'29'</li><li>'261'</li><li>'人次'</li><li>'近期'</li><li>'處'</li><li>'低點'</li><li>'近'</li><li>'4'</li><li>'週'</li><li>'社區'</li><li>'呼吸道'</li><li>'病毒'</li><li>'分離'</li><li>'以'</li><li>'腺病毒'</li><li>'為'</li><li>'多'</li><li>'其次'</li><li>'為'</li><li>'單純'</li><li>'疱疹病毒'</li><li>'及'</li><li>'副'</li><li>'流感病毒'</li><li>'國內'</li><li>'自去'</li><li>'2020'</li><li>'年'</li><li>'10'</li><li>'月'</li><li>'迄今'</li><li>'累計'</li><li>'2'</li><li>'例'</li><li>'流感'</li><li>'併發'</li><li>'重症'</li><li>'病例'</li><li>'分別'</li><li>'感染'</li><li>'H3N2'</li><li>'A型'</li><li>'待'</li><li>'分型'</li><li>'死亡'</li><li>'病例'</li><li>'累計'</li><li>'1'</li><li>'例'</li><li>'重症'</li><li>'病'</li><li>'例數'</li><li>'及'</li><li>'死亡'</li><li>'病'</li><li>'例數'</li><li>'均'</li><li>'明顯'</li><li>'低於'</li><li>'前'</li><li>'4'</li><li>'個'</li><li>'流感'</li><li>'季'</li><li>'同期'</li><li>'同期'</li><li>'病'</li><li>'例數'</li><li>'為'</li><li>'360'</li><li>'至'</li><li>'966'</li><li>'例'</li><li>'死亡'</li><li>'病'</li><li>'例數'</li><li>'為'</li><li>'56'</li><li>'至'</li><li>'159'</li><li>'例'</li><li>'截至'</li><li>'今年'</li><li>'3'</li><li>'月'</li><li>'28'</li><li>'日'</li><li>'本'</li><li>'流感'</li><li>'季'</li><li>'公費'</li><li>'流感疫苗'</li><li>'總接'</li><li>'種數'</li><li>'約'</li><li>'619.3'</li><li>'萬劑'</li><li>'65'</li><li>'歲'</li><li>'以上'</li><li>'長者'</li><li>'接種率'</li><li>'52.5'</li><li>'學齡前'</li><li>'幼兒'</li><li>'接種率'</li><li>'51.1'</li><li>'我國'</li><li>'自'</li><li>'今年'</li><li>'1'</li><li>'月'</li><li>'30'</li><li>'日起'</li><li>'公費'</li><li>'流感疫苗'</li><li>'擴大'</li><li>'提供'</li><li>'全國'</li><li>'6'</li><li>'個'</li><li>'月'</li><li>'以上'</li><li>'尚未'</li><li>'接種'</li><li>'的'</li><li>'本'</li><li>'國籍'</li><li>'民眾'</li><li>'接種'</li><li>'如為'</li><li>'外籍人士'</li><li>'需為'</li><li>'申請'</li><li>'中'</li><li>'或'</li><li>'持有'</li><li>'居留證'</li><li>'包含'</li><li>'外交'</li><li>'官員'</li><li>'證'</li><li>'國際'</li><li>'機構'</li><li>'官員'</li><li>'證及'</li><li>'外國'</li><li>'機構'</li><li>'官員'</li><li>'證'</li><li>'至'</li><li>'疫苗'</li><li>'用'</li><li>'罄'</li><li>'為止'</li><li>'籲請'</li><li>'尚未'</li><li>'接種'</li><li>'流感疫苗'</li><li>'的'</li><li>'民眾'</li><li>'儘速'</li><li>'完成'</li><li>'接種'</li><li>'以'</li><li>'提升'</li><li>'保護'</li><li>'力'</li><li>'保護'</li><li>'自身'</li><li>'及'</li><li>'家人'</li><li>'健康'</li><li>'此外'</li><li>'也'</li><li>'提醒'</li><li>'民眾'</li><li>'落實'</li><li>'勤洗手'</li><li>'及'</li><li>'咳嗽'</li><li>'禮節'</li><li>'等'</li><li>'衛生防護'</li><li>'措施'</li><li>'有'</li><li>'呼吸道'</li><li>'症'</li><li>'狀'</li><li>'時'</li><li>'應'</li><li>'佩戴'</li><li>'口罩'</li><li>'打噴嚏'</li><li>'時'</li><li>'應用'</li><li>'面紙'</li><li>'或'</li><li>'手帕'</li><li>'遮住'</li><li>'口'</li><li>'鼻'</li><li>'或用'</li><li>'衣袖'</li><li>'代替'</li><li>'與'</li><li>'他人'</li><li>'交談'</li><li>'時'</li><li>'請'</li><li>'保持'</li><li>'安全'</li><li>'社交'</li><li>'距離'</li><li>'民眾'</li><li>'如有類'</li><li>'流感'</li><li>'症狀'</li><li>'應'</li><li>'就近'</li><li>'就醫'</li><li>'並'</li><li>'充分'</li><li>'休息'</li><li>'以'</li><li>'降低'</li><li>'病毒傳播'</li><li>'的'</li><li>'機會'</li></ol>\n"
            ]
          },
          "metadata": {
            "tags": []
          }
        }
      ]
    },
    {
      "cell_type": "code",
      "metadata": {
        "id": "EGLRRs6FPBUG"
      },
      "source": [
        "new_words<-c(\"疾病管制署\",\"流感季\",\"類流感\",\"官員證\",\"用罄\")"
      ],
      "execution_count": null,
      "outputs": []
    },
    {
      "cell_type": "code",
      "metadata": {
        "id": "gBcEfPbSPCWG"
      },
      "source": [
        "for(i in 1:length(new_words)){new_user_word(cutter,new_words[i])}"
      ],
      "execution_count": null,
      "outputs": []
    },
    {
      "cell_type": "code",
      "metadata": {
        "id": "7WZ71jJJPCY0"
      },
      "source": [
        "content<-str_remove_all(content,\"0-9a-zA-Z+?\")"
      ],
      "execution_count": null,
      "outputs": []
    },
    {
      "cell_type": "code",
      "metadata": {
        "colab": {
          "base_uri": "https://localhost:8080/",
          "height": 260
        },
        "id": "aEVl3p3gPCa6",
        "outputId": "278341fe-f780-4091-c2cd-ed109c449996"
      },
      "source": [
        "cutter[content]"
      ],
      "execution_count": null,
      "outputs": [
        {
          "output_type": "display_data",
          "data": {
            "text/plain": [
              "  [1] \"疾病管制署\" \"公布\"       \"我國\"       \"本\"         \"流感季\"    \n",
              "  [6] \"2020\"       \"年\"         \"10\"         \"月\"         \"以來\"      \n",
              " [11] \"首例\"       \"流感\"       \"併發\"       \"重症\"       \"死亡\"      \n",
              " [16] \"病例\"       \"近期\"       \"國內\"       \"流感\"       \"疫情\"      \n",
              " [21] \"雖\"         \"在\"         \"低點\"       \"提醒\"       \"民眾\"      \n",
              " [26] \"仍\"         \"應\"         \"做好\"       \"個人\"       \"手部\"      \n",
              " [31] \"及\"         \"呼吸道\"     \"衛生\"       \"並\"         \"留意\"      \n",
              " [36] \"自身\"       \"及\"         \"親友\"       \"健康\"       \"情形\"      \n",
              " [41] \"尚未\"       \"接種\"       \"流感疫苗\"   \"的\"         \"民眾\"      \n",
              " [46] \"也\"         \"應\"         \"儘快\"       \"接種\"       \"以\"        \n",
              " [51] \"降低\"       \"流感病毒\"   \"對\"         \"健康\"       \"的\"        \n",
              " [56] \"威脅\"       \"疾管署\"     \"表示\"       \"新增\"       \"之\"        \n",
              " [61] \"流感\"       \"併發\"       \"重症\"       \"死亡\"       \"病例\"      \n",
              " [66] \"為\"         \"80\"         \"多歲\"       \"男性\"       \"有\"        \n",
              " [71] \"慢性病\"     \"史\"         \"未\"         \"接種\"       \"流感疫苗\"  \n",
              " [76] \"今\"         \"2021\"       \"年\"         \"3\"          \"月\"        \n",
              " [81] \"21\"         \"日因\"       \"嘔吐\"       \"呼吸\"       \"急促\"      \n",
              " [86] \"就醫\"       \"並\"         \"收治\"       \"住院\"       \"經\"        \n",
              " [91] \"診斷\"       \"有\"         \"吸入性\"     \"肺炎\"       \"等\"        \n",
              " [96] \"情形\"       \"轉至\"       \"加護\"       \"病房\"       \"治療\"      \n",
              "[101] \"3\"          \"月\"         \"25\"         \"日\"         \"通報\"      \n",
              "[106] \"因\"         \"檢出\"       \"A型\"        \"流感\"       \"3\"         \n",
              "[111] \"月\"         \"27\"         \"日\"         \"研判\"       \"為\"        \n",
              "[116] \"流感\"       \"併發\"       \"重症\"       \"同日\"       \"個案\"      \n",
              "[121] \"病情惡化\"   \"不幸\"       \"病逝\"       \"依據\"       \"疾管署\"    \n",
              "[126] \"監測\"       \"資料\"       \"顯示\"       \"上週\"       \"3\"         \n",
              "[131] \"月\"         \"21\"         \"日至\"       \"3\"          \"月\"        \n",
              "[136] \"27\"         \"日\"         \"國內\"       \"類流感\"     \"門急診\"    \n",
              "[141] \"就診\"       \"共\"         \"29\"         \"261\"        \"人次\"      \n",
              "[146] \"近期\"       \"處\"         \"低點\"       \"近\"         \"4\"         \n",
              "[151] \"週\"         \"社區\"       \"呼吸道\"     \"病毒\"       \"分離\"      \n",
              "[156] \"以\"         \"腺病毒\"     \"為\"         \"多\"         \"其次\"      \n",
              "[161] \"為\"         \"單純\"       \"疱疹病毒\"   \"及\"         \"副\"        \n",
              "[166] \"流感病毒\"   \"國內\"       \"自去\"       \"2020\"       \"年\"        \n",
              "[171] \"10\"         \"月\"         \"迄今\"       \"累計\"       \"2\"         \n",
              "[176] \"例\"         \"流感\"       \"併發\"       \"重症\"       \"病例\"      \n",
              "[181] \"分別\"       \"感染\"       \"H3N2\"       \"A型\"        \"待\"        \n",
              "[186] \"分型\"       \"死亡\"       \"病例\"       \"累計\"       \"1\"         \n",
              "[191] \"例\"         \"重症\"       \"病\"         \"例數\"       \"及\"        \n",
              "[196] \"死亡\"       \"病\"         \"例數\"       \"均\"         \"明顯\"      \n",
              "[201] \"低於\"       \"前\"         \"4\"          \"個\"         \"流感季\"    \n",
              "[206] \"同期\"       \"同期\"       \"病\"         \"例數\"       \"為\"        \n",
              "[211] \"360\"        \"至\"         \"966\"        \"例\"         \"死亡\"      \n",
              "[216] \"病\"         \"例數\"       \"為\"         \"56\"         \"至\"        \n",
              "[221] \"159\"        \"例\"         \"截至\"       \"今年\"       \"3\"         \n",
              "[226] \"月\"         \"28\"         \"日\"         \"本\"         \"流感季\"    \n",
              "[231] \"公費\"       \"流感疫苗\"   \"總接\"       \"種數\"       \"約\"        \n",
              "[236] \"619.3\"      \"萬劑\"       \"65\"         \"歲\"         \"以上\"      \n",
              "[241] \"長者\"       \"接種率\"     \"52.5\"       \"學齡前\"     \"幼兒\"      \n",
              "[246] \"接種率\"     \"51.1\"       \"我國\"       \"自\"         \"今年\"      \n",
              "[251] \"1\"          \"月\"         \"30\"         \"日起\"       \"公費\"      \n",
              "[256] \"流感疫苗\"   \"擴大\"       \"提供\"       \"全國\"       \"6\"         \n",
              "[261] \"個\"         \"月\"         \"以上\"       \"尚未\"       \"接種\"      \n",
              "[266] \"的\"         \"本\"         \"國籍\"       \"民眾\"       \"接種\"      \n",
              "[271] \"如為\"       \"外籍人士\"   \"需為\"       \"申請\"       \"中\"        \n",
              "[276] \"或\"         \"持有\"       \"居留證\"     \"包含\"       \"外交\"      \n",
              "[281] \"官員證\"     \"國際\"       \"機構\"       \"官員證\"     \"及\"        \n",
              "[286] \"外國\"       \"機構\"       \"官員證\"     \"至\"         \"疫苗\"      \n",
              "[291] \"用罄\"       \"為止\"       \"籲請\"       \"尚未\"       \"接種\"      \n",
              "[296] \"流感疫苗\"   \"的\"         \"民眾\"       \"儘速\"       \"完成\"      \n",
              "[301] \"接種\"       \"以\"         \"提升\"       \"保護\"       \"力\"        \n",
              "[306] \"保護\"       \"自身\"       \"及\"         \"家人\"       \"健康\"      \n",
              "[311] \"此外\"       \"也\"         \"提醒\"       \"民眾\"       \"落實\"      \n",
              "[316] \"勤洗手\"     \"及\"         \"咳嗽\"       \"禮節\"       \"等\"        \n",
              "[321] \"衛生防護\"   \"措施\"       \"有\"         \"呼吸道\"     \"症\"        \n",
              "[326] \"狀\"         \"時\"         \"應\"         \"佩戴\"       \"口罩\"      \n",
              "[331] \"打噴嚏\"     \"時\"         \"應用\"       \"面紙\"       \"或\"        \n",
              "[336] \"手帕\"       \"遮住\"       \"口\"         \"鼻\"         \"或用\"      \n",
              "[341] \"衣袖\"       \"代替\"       \"與\"         \"他人\"       \"交談\"      \n",
              "[346] \"時\"         \"請\"         \"保持\"       \"安全\"       \"社交\"      \n",
              "[351] \"距離\"       \"民眾\"       \"如有\"       \"類流感\"     \"症狀\"      \n",
              "[356] \"應\"         \"就近\"       \"就醫\"       \"並\"         \"充分\"      \n",
              "[361] \"休息\"       \"以\"         \"降低\"       \"病毒傳播\"   \"的\"        \n",
              "[366] \"機會\"      "
            ],
            "text/latex": "\\begin{enumerate*}\n\\item '疾病管制署'\n\\item '公布'\n\\item '我國'\n\\item '本'\n\\item '流感季'\n\\item '2020'\n\\item '年'\n\\item '10'\n\\item '月'\n\\item '以來'\n\\item '首例'\n\\item '流感'\n\\item '併發'\n\\item '重症'\n\\item '死亡'\n\\item '病例'\n\\item '近期'\n\\item '國內'\n\\item '流感'\n\\item '疫情'\n\\item '雖'\n\\item '在'\n\\item '低點'\n\\item '提醒'\n\\item '民眾'\n\\item '仍'\n\\item '應'\n\\item '做好'\n\\item '個人'\n\\item '手部'\n\\item '及'\n\\item '呼吸道'\n\\item '衛生'\n\\item '並'\n\\item '留意'\n\\item '自身'\n\\item '及'\n\\item '親友'\n\\item '健康'\n\\item '情形'\n\\item '尚未'\n\\item '接種'\n\\item '流感疫苗'\n\\item '的'\n\\item '民眾'\n\\item '也'\n\\item '應'\n\\item '儘快'\n\\item '接種'\n\\item '以'\n\\item '降低'\n\\item '流感病毒'\n\\item '對'\n\\item '健康'\n\\item '的'\n\\item '威脅'\n\\item '疾管署'\n\\item '表示'\n\\item '新增'\n\\item '之'\n\\item '流感'\n\\item '併發'\n\\item '重症'\n\\item '死亡'\n\\item '病例'\n\\item '為'\n\\item '80'\n\\item '多歲'\n\\item '男性'\n\\item '有'\n\\item '慢性病'\n\\item '史'\n\\item '未'\n\\item '接種'\n\\item '流感疫苗'\n\\item '今'\n\\item '2021'\n\\item '年'\n\\item '3'\n\\item '月'\n\\item '21'\n\\item '日因'\n\\item '嘔吐'\n\\item '呼吸'\n\\item '急促'\n\\item '就醫'\n\\item '並'\n\\item '收治'\n\\item '住院'\n\\item '經'\n\\item '診斷'\n\\item '有'\n\\item '吸入性'\n\\item '肺炎'\n\\item '等'\n\\item '情形'\n\\item '轉至'\n\\item '加護'\n\\item '病房'\n\\item '治療'\n\\item '3'\n\\item '月'\n\\item '25'\n\\item '日'\n\\item '通報'\n\\item '因'\n\\item '檢出'\n\\item 'A型'\n\\item '流感'\n\\item '3'\n\\item '月'\n\\item '27'\n\\item '日'\n\\item '研判'\n\\item '為'\n\\item '流感'\n\\item '併發'\n\\item '重症'\n\\item '同日'\n\\item '個案'\n\\item '病情惡化'\n\\item '不幸'\n\\item '病逝'\n\\item '依據'\n\\item '疾管署'\n\\item '監測'\n\\item '資料'\n\\item '顯示'\n\\item '上週'\n\\item '3'\n\\item '月'\n\\item '21'\n\\item '日至'\n\\item '3'\n\\item '月'\n\\item '27'\n\\item '日'\n\\item '國內'\n\\item '類流感'\n\\item '門急診'\n\\item '就診'\n\\item '共'\n\\item '29'\n\\item '261'\n\\item '人次'\n\\item '近期'\n\\item '處'\n\\item '低點'\n\\item '近'\n\\item '4'\n\\item '週'\n\\item '社區'\n\\item '呼吸道'\n\\item '病毒'\n\\item '分離'\n\\item '以'\n\\item '腺病毒'\n\\item '為'\n\\item '多'\n\\item '其次'\n\\item '為'\n\\item '單純'\n\\item '疱疹病毒'\n\\item '及'\n\\item '副'\n\\item '流感病毒'\n\\item '國內'\n\\item '自去'\n\\item '2020'\n\\item '年'\n\\item '10'\n\\item '月'\n\\item '迄今'\n\\item '累計'\n\\item '2'\n\\item '例'\n\\item '流感'\n\\item '併發'\n\\item '重症'\n\\item '病例'\n\\item '分別'\n\\item '感染'\n\\item 'H3N2'\n\\item 'A型'\n\\item '待'\n\\item '分型'\n\\item '死亡'\n\\item '病例'\n\\item '累計'\n\\item '1'\n\\item '例'\n\\item '重症'\n\\item '病'\n\\item '例數'\n\\item '及'\n\\item '死亡'\n\\item '病'\n\\item '例數'\n\\item '均'\n\\item '明顯'\n\\item '低於'\n\\item '前'\n\\item '4'\n\\item '個'\n\\item '流感季'\n\\item '同期'\n\\item '同期'\n\\item '病'\n\\item '例數'\n\\item '為'\n\\item '360'\n\\item '至'\n\\item '966'\n\\item '例'\n\\item '死亡'\n\\item '病'\n\\item '例數'\n\\item '為'\n\\item '56'\n\\item '至'\n\\item '159'\n\\item '例'\n\\item '截至'\n\\item '今年'\n\\item '3'\n\\item '月'\n\\item '28'\n\\item '日'\n\\item '本'\n\\item '流感季'\n\\item '公費'\n\\item '流感疫苗'\n\\item '總接'\n\\item '種數'\n\\item '約'\n\\item '619.3'\n\\item '萬劑'\n\\item '65'\n\\item '歲'\n\\item '以上'\n\\item '長者'\n\\item '接種率'\n\\item '52.5'\n\\item '學齡前'\n\\item '幼兒'\n\\item '接種率'\n\\item '51.1'\n\\item '我國'\n\\item '自'\n\\item '今年'\n\\item '1'\n\\item '月'\n\\item '30'\n\\item '日起'\n\\item '公費'\n\\item '流感疫苗'\n\\item '擴大'\n\\item '提供'\n\\item '全國'\n\\item '6'\n\\item '個'\n\\item '月'\n\\item '以上'\n\\item '尚未'\n\\item '接種'\n\\item '的'\n\\item '本'\n\\item '國籍'\n\\item '民眾'\n\\item '接種'\n\\item '如為'\n\\item '外籍人士'\n\\item '需為'\n\\item '申請'\n\\item '中'\n\\item '或'\n\\item '持有'\n\\item '居留證'\n\\item '包含'\n\\item '外交'\n\\item '官員證'\n\\item '國際'\n\\item '機構'\n\\item '官員證'\n\\item '及'\n\\item '外國'\n\\item '機構'\n\\item '官員證'\n\\item '至'\n\\item '疫苗'\n\\item '用罄'\n\\item '為止'\n\\item '籲請'\n\\item '尚未'\n\\item '接種'\n\\item '流感疫苗'\n\\item '的'\n\\item '民眾'\n\\item '儘速'\n\\item '完成'\n\\item '接種'\n\\item '以'\n\\item '提升'\n\\item '保護'\n\\item '力'\n\\item '保護'\n\\item '自身'\n\\item '及'\n\\item '家人'\n\\item '健康'\n\\item '此外'\n\\item '也'\n\\item '提醒'\n\\item '民眾'\n\\item '落實'\n\\item '勤洗手'\n\\item '及'\n\\item '咳嗽'\n\\item '禮節'\n\\item '等'\n\\item '衛生防護'\n\\item '措施'\n\\item '有'\n\\item '呼吸道'\n\\item '症'\n\\item '狀'\n\\item '時'\n\\item '應'\n\\item '佩戴'\n\\item '口罩'\n\\item '打噴嚏'\n\\item '時'\n\\item '應用'\n\\item '面紙'\n\\item '或'\n\\item '手帕'\n\\item '遮住'\n\\item '口'\n\\item '鼻'\n\\item '或用'\n\\item '衣袖'\n\\item '代替'\n\\item '與'\n\\item '他人'\n\\item '交談'\n\\item '時'\n\\item '請'\n\\item '保持'\n\\item '安全'\n\\item '社交'\n\\item '距離'\n\\item '民眾'\n\\item '如有'\n\\item '類流感'\n\\item '症狀'\n\\item '應'\n\\item '就近'\n\\item '就醫'\n\\item '並'\n\\item '充分'\n\\item '休息'\n\\item '以'\n\\item '降低'\n\\item '病毒傳播'\n\\item '的'\n\\item '機會'\n\\end{enumerate*}\n",
            "text/markdown": "1. '疾病管制署'\n2. '公布'\n3. '我國'\n4. '本'\n5. '流感季'\n6. '2020'\n7. '年'\n8. '10'\n9. '月'\n10. '以來'\n11. '首例'\n12. '流感'\n13. '併發'\n14. '重症'\n15. '死亡'\n16. '病例'\n17. '近期'\n18. '國內'\n19. '流感'\n20. '疫情'\n21. '雖'\n22. '在'\n23. '低點'\n24. '提醒'\n25. '民眾'\n26. '仍'\n27. '應'\n28. '做好'\n29. '個人'\n30. '手部'\n31. '及'\n32. '呼吸道'\n33. '衛生'\n34. '並'\n35. '留意'\n36. '自身'\n37. '及'\n38. '親友'\n39. '健康'\n40. '情形'\n41. '尚未'\n42. '接種'\n43. '流感疫苗'\n44. '的'\n45. '民眾'\n46. '也'\n47. '應'\n48. '儘快'\n49. '接種'\n50. '以'\n51. '降低'\n52. '流感病毒'\n53. '對'\n54. '健康'\n55. '的'\n56. '威脅'\n57. '疾管署'\n58. '表示'\n59. '新增'\n60. '之'\n61. '流感'\n62. '併發'\n63. '重症'\n64. '死亡'\n65. '病例'\n66. '為'\n67. '80'\n68. '多歲'\n69. '男性'\n70. '有'\n71. '慢性病'\n72. '史'\n73. '未'\n74. '接種'\n75. '流感疫苗'\n76. '今'\n77. '2021'\n78. '年'\n79. '3'\n80. '月'\n81. '21'\n82. '日因'\n83. '嘔吐'\n84. '呼吸'\n85. '急促'\n86. '就醫'\n87. '並'\n88. '收治'\n89. '住院'\n90. '經'\n91. '診斷'\n92. '有'\n93. '吸入性'\n94. '肺炎'\n95. '等'\n96. '情形'\n97. '轉至'\n98. '加護'\n99. '病房'\n100. '治療'\n101. '3'\n102. '月'\n103. '25'\n104. '日'\n105. '通報'\n106. '因'\n107. '檢出'\n108. 'A型'\n109. '流感'\n110. '3'\n111. '月'\n112. '27'\n113. '日'\n114. '研判'\n115. '為'\n116. '流感'\n117. '併發'\n118. '重症'\n119. '同日'\n120. '個案'\n121. '病情惡化'\n122. '不幸'\n123. '病逝'\n124. '依據'\n125. '疾管署'\n126. '監測'\n127. '資料'\n128. '顯示'\n129. '上週'\n130. '3'\n131. '月'\n132. '21'\n133. '日至'\n134. '3'\n135. '月'\n136. '27'\n137. '日'\n138. '國內'\n139. '類流感'\n140. '門急診'\n141. '就診'\n142. '共'\n143. '29'\n144. '261'\n145. '人次'\n146. '近期'\n147. '處'\n148. '低點'\n149. '近'\n150. '4'\n151. '週'\n152. '社區'\n153. '呼吸道'\n154. '病毒'\n155. '分離'\n156. '以'\n157. '腺病毒'\n158. '為'\n159. '多'\n160. '其次'\n161. '為'\n162. '單純'\n163. '疱疹病毒'\n164. '及'\n165. '副'\n166. '流感病毒'\n167. '國內'\n168. '自去'\n169. '2020'\n170. '年'\n171. '10'\n172. '月'\n173. '迄今'\n174. '累計'\n175. '2'\n176. '例'\n177. '流感'\n178. '併發'\n179. '重症'\n180. '病例'\n181. '分別'\n182. '感染'\n183. 'H3N2'\n184. 'A型'\n185. '待'\n186. '分型'\n187. '死亡'\n188. '病例'\n189. '累計'\n190. '1'\n191. '例'\n192. '重症'\n193. '病'\n194. '例數'\n195. '及'\n196. '死亡'\n197. '病'\n198. '例數'\n199. '均'\n200. '明顯'\n201. '低於'\n202. '前'\n203. '4'\n204. '個'\n205. '流感季'\n206. '同期'\n207. '同期'\n208. '病'\n209. '例數'\n210. '為'\n211. '360'\n212. '至'\n213. '966'\n214. '例'\n215. '死亡'\n216. '病'\n217. '例數'\n218. '為'\n219. '56'\n220. '至'\n221. '159'\n222. '例'\n223. '截至'\n224. '今年'\n225. '3'\n226. '月'\n227. '28'\n228. '日'\n229. '本'\n230. '流感季'\n231. '公費'\n232. '流感疫苗'\n233. '總接'\n234. '種數'\n235. '約'\n236. '619.3'\n237. '萬劑'\n238. '65'\n239. '歲'\n240. '以上'\n241. '長者'\n242. '接種率'\n243. '52.5'\n244. '學齡前'\n245. '幼兒'\n246. '接種率'\n247. '51.1'\n248. '我國'\n249. '自'\n250. '今年'\n251. '1'\n252. '月'\n253. '30'\n254. '日起'\n255. '公費'\n256. '流感疫苗'\n257. '擴大'\n258. '提供'\n259. '全國'\n260. '6'\n261. '個'\n262. '月'\n263. '以上'\n264. '尚未'\n265. '接種'\n266. '的'\n267. '本'\n268. '國籍'\n269. '民眾'\n270. '接種'\n271. '如為'\n272. '外籍人士'\n273. '需為'\n274. '申請'\n275. '中'\n276. '或'\n277. '持有'\n278. '居留證'\n279. '包含'\n280. '外交'\n281. '官員證'\n282. '國際'\n283. '機構'\n284. '官員證'\n285. '及'\n286. '外國'\n287. '機構'\n288. '官員證'\n289. '至'\n290. '疫苗'\n291. '用罄'\n292. '為止'\n293. '籲請'\n294. '尚未'\n295. '接種'\n296. '流感疫苗'\n297. '的'\n298. '民眾'\n299. '儘速'\n300. '完成'\n301. '接種'\n302. '以'\n303. '提升'\n304. '保護'\n305. '力'\n306. '保護'\n307. '自身'\n308. '及'\n309. '家人'\n310. '健康'\n311. '此外'\n312. '也'\n313. '提醒'\n314. '民眾'\n315. '落實'\n316. '勤洗手'\n317. '及'\n318. '咳嗽'\n319. '禮節'\n320. '等'\n321. '衛生防護'\n322. '措施'\n323. '有'\n324. '呼吸道'\n325. '症'\n326. '狀'\n327. '時'\n328. '應'\n329. '佩戴'\n330. '口罩'\n331. '打噴嚏'\n332. '時'\n333. '應用'\n334. '面紙'\n335. '或'\n336. '手帕'\n337. '遮住'\n338. '口'\n339. '鼻'\n340. '或用'\n341. '衣袖'\n342. '代替'\n343. '與'\n344. '他人'\n345. '交談'\n346. '時'\n347. '請'\n348. '保持'\n349. '安全'\n350. '社交'\n351. '距離'\n352. '民眾'\n353. '如有'\n354. '類流感'\n355. '症狀'\n356. '應'\n357. '就近'\n358. '就醫'\n359. '並'\n360. '充分'\n361. '休息'\n362. '以'\n363. '降低'\n364. '病毒傳播'\n365. '的'\n366. '機會'\n\n\n",
            "text/html": [
              "<style>\n",
              ".list-inline {list-style: none; margin:0; padding: 0}\n",
              ".list-inline>li {display: inline-block}\n",
              ".list-inline>li:not(:last-child)::after {content: \"\\00b7\"; padding: 0 .5ex}\n",
              "</style>\n",
              "<ol class=list-inline><li>'疾病管制署'</li><li>'公布'</li><li>'我國'</li><li>'本'</li><li>'流感季'</li><li>'2020'</li><li>'年'</li><li>'10'</li><li>'月'</li><li>'以來'</li><li>'首例'</li><li>'流感'</li><li>'併發'</li><li>'重症'</li><li>'死亡'</li><li>'病例'</li><li>'近期'</li><li>'國內'</li><li>'流感'</li><li>'疫情'</li><li>'雖'</li><li>'在'</li><li>'低點'</li><li>'提醒'</li><li>'民眾'</li><li>'仍'</li><li>'應'</li><li>'做好'</li><li>'個人'</li><li>'手部'</li><li>'及'</li><li>'呼吸道'</li><li>'衛生'</li><li>'並'</li><li>'留意'</li><li>'自身'</li><li>'及'</li><li>'親友'</li><li>'健康'</li><li>'情形'</li><li>'尚未'</li><li>'接種'</li><li>'流感疫苗'</li><li>'的'</li><li>'民眾'</li><li>'也'</li><li>'應'</li><li>'儘快'</li><li>'接種'</li><li>'以'</li><li>'降低'</li><li>'流感病毒'</li><li>'對'</li><li>'健康'</li><li>'的'</li><li>'威脅'</li><li>'疾管署'</li><li>'表示'</li><li>'新增'</li><li>'之'</li><li>'流感'</li><li>'併發'</li><li>'重症'</li><li>'死亡'</li><li>'病例'</li><li>'為'</li><li>'80'</li><li>'多歲'</li><li>'男性'</li><li>'有'</li><li>'慢性病'</li><li>'史'</li><li>'未'</li><li>'接種'</li><li>'流感疫苗'</li><li>'今'</li><li>'2021'</li><li>'年'</li><li>'3'</li><li>'月'</li><li>'21'</li><li>'日因'</li><li>'嘔吐'</li><li>'呼吸'</li><li>'急促'</li><li>'就醫'</li><li>'並'</li><li>'收治'</li><li>'住院'</li><li>'經'</li><li>'診斷'</li><li>'有'</li><li>'吸入性'</li><li>'肺炎'</li><li>'等'</li><li>'情形'</li><li>'轉至'</li><li>'加護'</li><li>'病房'</li><li>'治療'</li><li>'3'</li><li>'月'</li><li>'25'</li><li>'日'</li><li>'通報'</li><li>'因'</li><li>'檢出'</li><li>'A型'</li><li>'流感'</li><li>'3'</li><li>'月'</li><li>'27'</li><li>'日'</li><li>'研判'</li><li>'為'</li><li>'流感'</li><li>'併發'</li><li>'重症'</li><li>'同日'</li><li>'個案'</li><li>'病情惡化'</li><li>'不幸'</li><li>'病逝'</li><li>'依據'</li><li>'疾管署'</li><li>'監測'</li><li>'資料'</li><li>'顯示'</li><li>'上週'</li><li>'3'</li><li>'月'</li><li>'21'</li><li>'日至'</li><li>'3'</li><li>'月'</li><li>'27'</li><li>'日'</li><li>'國內'</li><li>'類流感'</li><li>'門急診'</li><li>'就診'</li><li>'共'</li><li>'29'</li><li>'261'</li><li>'人次'</li><li>'近期'</li><li>'處'</li><li>'低點'</li><li>'近'</li><li>'4'</li><li>'週'</li><li>'社區'</li><li>'呼吸道'</li><li>'病毒'</li><li>'分離'</li><li>'以'</li><li>'腺病毒'</li><li>'為'</li><li>'多'</li><li>'其次'</li><li>'為'</li><li>'單純'</li><li>'疱疹病毒'</li><li>'及'</li><li>'副'</li><li>'流感病毒'</li><li>'國內'</li><li>'自去'</li><li>'2020'</li><li>'年'</li><li>'10'</li><li>'月'</li><li>'迄今'</li><li>'累計'</li><li>'2'</li><li>'例'</li><li>'流感'</li><li>'併發'</li><li>'重症'</li><li>'病例'</li><li>'分別'</li><li>'感染'</li><li>'H3N2'</li><li>'A型'</li><li>'待'</li><li>'分型'</li><li>'死亡'</li><li>'病例'</li><li>'累計'</li><li>'1'</li><li>'例'</li><li>'重症'</li><li>'病'</li><li>'例數'</li><li>'及'</li><li>'死亡'</li><li>'病'</li><li>'例數'</li><li>'均'</li><li>'明顯'</li><li>'低於'</li><li>'前'</li><li>'4'</li><li>'個'</li><li>'流感季'</li><li>'同期'</li><li>'同期'</li><li>'病'</li><li>'例數'</li><li>'為'</li><li>'360'</li><li>'至'</li><li>'966'</li><li>'例'</li><li>'死亡'</li><li>'病'</li><li>'例數'</li><li>'為'</li><li>'56'</li><li>'至'</li><li>'159'</li><li>'例'</li><li>'截至'</li><li>'今年'</li><li>'3'</li><li>'月'</li><li>'28'</li><li>'日'</li><li>'本'</li><li>'流感季'</li><li>'公費'</li><li>'流感疫苗'</li><li>'總接'</li><li>'種數'</li><li>'約'</li><li>'619.3'</li><li>'萬劑'</li><li>'65'</li><li>'歲'</li><li>'以上'</li><li>'長者'</li><li>'接種率'</li><li>'52.5'</li><li>'學齡前'</li><li>'幼兒'</li><li>'接種率'</li><li>'51.1'</li><li>'我國'</li><li>'自'</li><li>'今年'</li><li>'1'</li><li>'月'</li><li>'30'</li><li>'日起'</li><li>'公費'</li><li>'流感疫苗'</li><li>'擴大'</li><li>'提供'</li><li>'全國'</li><li>'6'</li><li>'個'</li><li>'月'</li><li>'以上'</li><li>'尚未'</li><li>'接種'</li><li>'的'</li><li>'本'</li><li>'國籍'</li><li>'民眾'</li><li>'接種'</li><li>'如為'</li><li>'外籍人士'</li><li>'需為'</li><li>'申請'</li><li>'中'</li><li>'或'</li><li>'持有'</li><li>'居留證'</li><li>'包含'</li><li>'外交'</li><li>'官員證'</li><li>'國際'</li><li>'機構'</li><li>'官員證'</li><li>'及'</li><li>'外國'</li><li>'機構'</li><li>'官員證'</li><li>'至'</li><li>'疫苗'</li><li>'用罄'</li><li>'為止'</li><li>'籲請'</li><li>'尚未'</li><li>'接種'</li><li>'流感疫苗'</li><li>'的'</li><li>'民眾'</li><li>'儘速'</li><li>'完成'</li><li>'接種'</li><li>'以'</li><li>'提升'</li><li>'保護'</li><li>'力'</li><li>'保護'</li><li>'自身'</li><li>'及'</li><li>'家人'</li><li>'健康'</li><li>'此外'</li><li>'也'</li><li>'提醒'</li><li>'民眾'</li><li>'落實'</li><li>'勤洗手'</li><li>'及'</li><li>'咳嗽'</li><li>'禮節'</li><li>'等'</li><li>'衛生防護'</li><li>'措施'</li><li>'有'</li><li>'呼吸道'</li><li>'症'</li><li>'狀'</li><li>'時'</li><li>'應'</li><li>'佩戴'</li><li>'口罩'</li><li>'打噴嚏'</li><li>'時'</li><li>'應用'</li><li>'面紙'</li><li>'或'</li><li>'手帕'</li><li>'遮住'</li><li>'口'</li><li>'鼻'</li><li>'或用'</li><li>'衣袖'</li><li>'代替'</li><li>'與'</li><li>'他人'</li><li>'交談'</li><li>'時'</li><li>'請'</li><li>'保持'</li><li>'安全'</li><li>'社交'</li><li>'距離'</li><li>'民眾'</li><li>'如有'</li><li>'類流感'</li><li>'症狀'</li><li>'應'</li><li>'就近'</li><li>'就醫'</li><li>'並'</li><li>'充分'</li><li>'休息'</li><li>'以'</li><li>'降低'</li><li>'病毒傳播'</li><li>'的'</li><li>'機會'</li></ol>\n"
            ]
          },
          "metadata": {
            "tags": []
          }
        }
      ]
    },
    {
      "cell_type": "code",
      "metadata": {
        "id": "51uCI4N7PCdP"
      },
      "source": [
        "new_words<-c(\"疾病管制署\",\"流感季\",\"類流感\",\"官員證\",\"用罄\")"
      ],
      "execution_count": null,
      "outputs": []
    },
    {
      "cell_type": "code",
      "metadata": {
        "id": "Nrmextd6PCed"
      },
      "source": [
        "writeLines(new_words,\"new_words.txt\")"
      ],
      "execution_count": null,
      "outputs": []
    },
    {
      "cell_type": "code",
      "metadata": {
        "id": "Mb5axj6VPCgE"
      },
      "source": [
        "stop_words<-c(\"在\",\"之\",\"更\",\"個\",\"未\",\"而\",\"也\")"
      ],
      "execution_count": null,
      "outputs": []
    },
    {
      "cell_type": "code",
      "metadata": {
        "id": "xZwouvGrPCho"
      },
      "source": [
        "writeLines(stop_words,\"stop_words.txt\")"
      ],
      "execution_count": null,
      "outputs": []
    },
    {
      "cell_type": "code",
      "metadata": {
        "id": "JqhFNlUsPCjZ"
      },
      "source": [
        "cutter<-worker(user=\"new_words.txt\",stop_word=\"stop_words.txt\",\n",
        "bylines=FALSE)"
      ],
      "execution_count": null,
      "outputs": []
    },
    {
      "cell_type": "code",
      "metadata": {
        "id": "KqY3a53TPCk7"
      },
      "source": [
        "seg_words<-cutter[content]"
      ],
      "execution_count": null,
      "outputs": []
    },
    {
      "cell_type": "code",
      "metadata": {
        "colab": {
          "base_uri": "https://localhost:8080/",
          "height": 260
        },
        "id": "gu3trBi8PCmi",
        "outputId": "c084a56b-d489-4d24-88e2-45ceeb0aa5e7"
      },
      "source": [
        "seg_words"
      ],
      "execution_count": null,
      "outputs": [
        {
          "output_type": "display_data",
          "data": {
            "text/plain": [
              "  [1] \"疾病管制署\" \"公布\"       \"我國\"       \"本\"         \"流感季\"    \n",
              "  [6] \"2020\"       \"年\"         \"10\"         \"月\"         \"以來\"      \n",
              " [11] \"首例\"       \"流感\"       \"併發\"       \"重症\"       \"死亡\"      \n",
              " [16] \"病例\"       \"近期\"       \"國內\"       \"流感\"       \"疫情\"      \n",
              " [21] \"雖\"         \"低點\"       \"提醒\"       \"民眾\"       \"仍\"        \n",
              " [26] \"應\"         \"做好\"       \"個人\"       \"手部\"       \"及\"        \n",
              " [31] \"呼吸道\"     \"衛生\"       \"並\"         \"留意\"       \"自身\"      \n",
              " [36] \"及\"         \"親友\"       \"健康\"       \"情形\"       \"尚未\"      \n",
              " [41] \"接種\"       \"流感疫苗\"   \"的\"         \"民眾\"       \"應\"        \n",
              " [46] \"儘快\"       \"接種\"       \"以\"         \"降低\"       \"流感病毒\"  \n",
              " [51] \"對\"         \"健康\"       \"的\"         \"威脅\"       \"疾管署\"    \n",
              " [56] \"表示\"       \"新增\"       \"流感\"       \"併發\"       \"重症\"      \n",
              " [61] \"死亡\"       \"病例\"       \"為\"         \"80\"         \"多歲\"      \n",
              " [66] \"男性\"       \"有\"         \"慢性病\"     \"史\"         \"接種\"      \n",
              " [71] \"流感疫苗\"   \"今\"         \"2021\"       \"年\"         \"3\"         \n",
              " [76] \"月\"         \"21\"         \"日因\"       \"嘔吐\"       \"呼吸\"      \n",
              " [81] \"急促\"       \"就醫\"       \"並\"         \"收治\"       \"住院\"      \n",
              " [86] \"經\"         \"診斷\"       \"有\"         \"吸入性\"     \"肺炎\"      \n",
              " [91] \"等\"         \"情形\"       \"轉至\"       \"加護\"       \"病房\"      \n",
              " [96] \"治療\"       \"3\"          \"月\"         \"25\"         \"日\"        \n",
              "[101] \"通報\"       \"因\"         \"檢出\"       \"A型\"        \"流感\"      \n",
              "[106] \"3\"          \"月\"         \"27\"         \"日\"         \"研判\"      \n",
              "[111] \"為\"         \"流感\"       \"併發\"       \"重症\"       \"同日\"      \n",
              "[116] \"個案\"       \"病情惡化\"   \"不幸\"       \"病逝\"       \"依據\"      \n",
              "[121] \"疾管署\"     \"監測\"       \"資料\"       \"顯示\"       \"上週\"      \n",
              "[126] \"3\"          \"月\"         \"21\"         \"日至\"       \"3\"         \n",
              "[131] \"月\"         \"27\"         \"日\"         \"國內\"       \"類流感\"    \n",
              "[136] \"門急診\"     \"就診\"       \"共\"         \"29\"         \"261\"       \n",
              "[141] \"人次\"       \"近期\"       \"處\"         \"低點\"       \"近\"        \n",
              "[146] \"4\"          \"週\"         \"社區\"       \"呼吸道\"     \"病毒\"      \n",
              "[151] \"分離\"       \"以\"         \"腺病毒\"     \"為\"         \"多\"        \n",
              "[156] \"其次\"       \"為\"         \"單純\"       \"疱疹病毒\"   \"及\"        \n",
              "[161] \"副\"         \"流感病毒\"   \"國內\"       \"自去\"       \"2020\"      \n",
              "[166] \"年\"         \"10\"         \"月\"         \"迄今\"       \"累計\"      \n",
              "[171] \"2\"          \"例\"         \"流感\"       \"併發\"       \"重症\"      \n",
              "[176] \"病例\"       \"分別\"       \"感染\"       \"H3N2\"       \"A型\"       \n",
              "[181] \"待\"         \"分型\"       \"死亡\"       \"病例\"       \"累計\"      \n",
              "[186] \"1\"          \"例\"         \"重症\"       \"病\"         \"例數\"      \n",
              "[191] \"及\"         \"死亡\"       \"病\"         \"例數\"       \"均\"        \n",
              "[196] \"明顯\"       \"低於\"       \"前\"         \"4\"          \"流感季\"    \n",
              "[201] \"同期\"       \"同期\"       \"病\"         \"例數\"       \"為\"        \n",
              "[206] \"360\"        \"至\"         \"966\"        \"例\"         \"死亡\"      \n",
              "[211] \"病\"         \"例數\"       \"為\"         \"56\"         \"至\"        \n",
              "[216] \"159\"        \"例\"         \"截至\"       \"今年\"       \"3\"         \n",
              "[221] \"月\"         \"28\"         \"日\"         \"本\"         \"流感季\"    \n",
              "[226] \"公費\"       \"流感疫苗\"   \"總接\"       \"種數\"       \"約\"        \n",
              "[231] \"619.3\"      \"萬劑\"       \"65\"         \"歲\"         \"以上\"      \n",
              "[236] \"長者\"       \"接種率\"     \"52.5\"       \"學齡前\"     \"幼兒\"      \n",
              "[241] \"接種率\"     \"51.1\"       \"我國\"       \"自\"         \"今年\"      \n",
              "[246] \"1\"          \"月\"         \"30\"         \"日起\"       \"公費\"      \n",
              "[251] \"流感疫苗\"   \"擴大\"       \"提供\"       \"全國\"       \"6\"         \n",
              "[256] \"月\"         \"以上\"       \"尚未\"       \"接種\"       \"的\"        \n",
              "[261] \"本\"         \"國籍\"       \"民眾\"       \"接種\"       \"如為\"      \n",
              "[266] \"外籍人士\"   \"需為\"       \"申請\"       \"中\"         \"或\"        \n",
              "[271] \"持有\"       \"居留證\"     \"包含\"       \"外交\"       \"官員證\"    \n",
              "[276] \"國際\"       \"機構\"       \"官員證\"     \"及\"         \"外國\"      \n",
              "[281] \"機構\"       \"官員證\"     \"至\"         \"疫苗\"       \"用罄\"      \n",
              "[286] \"為止\"       \"籲請\"       \"尚未\"       \"接種\"       \"流感疫苗\"  \n",
              "[291] \"的\"         \"民眾\"       \"儘速\"       \"完成\"       \"接種\"      \n",
              "[296] \"以\"         \"提升\"       \"保護\"       \"力\"         \"保護\"      \n",
              "[301] \"自身\"       \"及\"         \"家人\"       \"健康\"       \"此外\"      \n",
              "[306] \"提醒\"       \"民眾\"       \"落實\"       \"勤洗手\"     \"及\"        \n",
              "[311] \"咳嗽\"       \"禮節\"       \"等\"         \"衛生防護\"   \"措施\"      \n",
              "[316] \"有\"         \"呼吸道\"     \"症\"         \"狀\"         \"時\"        \n",
              "[321] \"應\"         \"佩戴\"       \"口罩\"       \"打噴嚏\"     \"時\"        \n",
              "[326] \"應用\"       \"面紙\"       \"或\"         \"手帕\"       \"遮住\"      \n",
              "[331] \"口\"         \"鼻\"         \"或用\"       \"衣袖\"       \"代替\"      \n",
              "[336] \"與\"         \"他人\"       \"交談\"       \"時\"         \"請\"        \n",
              "[341] \"保持\"       \"安全\"       \"社交\"       \"距離\"       \"民眾\"      \n",
              "[346] \"如有\"       \"類流感\"     \"症狀\"       \"應\"         \"就近\"      \n",
              "[351] \"就醫\"       \"並\"         \"充分\"       \"休息\"       \"以\"        \n",
              "[356] \"降低\"       \"病毒傳播\"   \"的\"         \"機會\"      "
            ],
            "text/latex": "\\begin{enumerate*}\n\\item '疾病管制署'\n\\item '公布'\n\\item '我國'\n\\item '本'\n\\item '流感季'\n\\item '2020'\n\\item '年'\n\\item '10'\n\\item '月'\n\\item '以來'\n\\item '首例'\n\\item '流感'\n\\item '併發'\n\\item '重症'\n\\item '死亡'\n\\item '病例'\n\\item '近期'\n\\item '國內'\n\\item '流感'\n\\item '疫情'\n\\item '雖'\n\\item '低點'\n\\item '提醒'\n\\item '民眾'\n\\item '仍'\n\\item '應'\n\\item '做好'\n\\item '個人'\n\\item '手部'\n\\item '及'\n\\item '呼吸道'\n\\item '衛生'\n\\item '並'\n\\item '留意'\n\\item '自身'\n\\item '及'\n\\item '親友'\n\\item '健康'\n\\item '情形'\n\\item '尚未'\n\\item '接種'\n\\item '流感疫苗'\n\\item '的'\n\\item '民眾'\n\\item '應'\n\\item '儘快'\n\\item '接種'\n\\item '以'\n\\item '降低'\n\\item '流感病毒'\n\\item '對'\n\\item '健康'\n\\item '的'\n\\item '威脅'\n\\item '疾管署'\n\\item '表示'\n\\item '新增'\n\\item '流感'\n\\item '併發'\n\\item '重症'\n\\item '死亡'\n\\item '病例'\n\\item '為'\n\\item '80'\n\\item '多歲'\n\\item '男性'\n\\item '有'\n\\item '慢性病'\n\\item '史'\n\\item '接種'\n\\item '流感疫苗'\n\\item '今'\n\\item '2021'\n\\item '年'\n\\item '3'\n\\item '月'\n\\item '21'\n\\item '日因'\n\\item '嘔吐'\n\\item '呼吸'\n\\item '急促'\n\\item '就醫'\n\\item '並'\n\\item '收治'\n\\item '住院'\n\\item '經'\n\\item '診斷'\n\\item '有'\n\\item '吸入性'\n\\item '肺炎'\n\\item '等'\n\\item '情形'\n\\item '轉至'\n\\item '加護'\n\\item '病房'\n\\item '治療'\n\\item '3'\n\\item '月'\n\\item '25'\n\\item '日'\n\\item '通報'\n\\item '因'\n\\item '檢出'\n\\item 'A型'\n\\item '流感'\n\\item '3'\n\\item '月'\n\\item '27'\n\\item '日'\n\\item '研判'\n\\item '為'\n\\item '流感'\n\\item '併發'\n\\item '重症'\n\\item '同日'\n\\item '個案'\n\\item '病情惡化'\n\\item '不幸'\n\\item '病逝'\n\\item '依據'\n\\item '疾管署'\n\\item '監測'\n\\item '資料'\n\\item '顯示'\n\\item '上週'\n\\item '3'\n\\item '月'\n\\item '21'\n\\item '日至'\n\\item '3'\n\\item '月'\n\\item '27'\n\\item '日'\n\\item '國內'\n\\item '類流感'\n\\item '門急診'\n\\item '就診'\n\\item '共'\n\\item '29'\n\\item '261'\n\\item '人次'\n\\item '近期'\n\\item '處'\n\\item '低點'\n\\item '近'\n\\item '4'\n\\item '週'\n\\item '社區'\n\\item '呼吸道'\n\\item '病毒'\n\\item '分離'\n\\item '以'\n\\item '腺病毒'\n\\item '為'\n\\item '多'\n\\item '其次'\n\\item '為'\n\\item '單純'\n\\item '疱疹病毒'\n\\item '及'\n\\item '副'\n\\item '流感病毒'\n\\item '國內'\n\\item '自去'\n\\item '2020'\n\\item '年'\n\\item '10'\n\\item '月'\n\\item '迄今'\n\\item '累計'\n\\item '2'\n\\item '例'\n\\item '流感'\n\\item '併發'\n\\item '重症'\n\\item '病例'\n\\item '分別'\n\\item '感染'\n\\item 'H3N2'\n\\item 'A型'\n\\item '待'\n\\item '分型'\n\\item '死亡'\n\\item '病例'\n\\item '累計'\n\\item '1'\n\\item '例'\n\\item '重症'\n\\item '病'\n\\item '例數'\n\\item '及'\n\\item '死亡'\n\\item '病'\n\\item '例數'\n\\item '均'\n\\item '明顯'\n\\item '低於'\n\\item '前'\n\\item '4'\n\\item '流感季'\n\\item '同期'\n\\item '同期'\n\\item '病'\n\\item '例數'\n\\item '為'\n\\item '360'\n\\item '至'\n\\item '966'\n\\item '例'\n\\item '死亡'\n\\item '病'\n\\item '例數'\n\\item '為'\n\\item '56'\n\\item '至'\n\\item '159'\n\\item '例'\n\\item '截至'\n\\item '今年'\n\\item '3'\n\\item '月'\n\\item '28'\n\\item '日'\n\\item '本'\n\\item '流感季'\n\\item '公費'\n\\item '流感疫苗'\n\\item '總接'\n\\item '種數'\n\\item '約'\n\\item '619.3'\n\\item '萬劑'\n\\item '65'\n\\item '歲'\n\\item '以上'\n\\item '長者'\n\\item '接種率'\n\\item '52.5'\n\\item '學齡前'\n\\item '幼兒'\n\\item '接種率'\n\\item '51.1'\n\\item '我國'\n\\item '自'\n\\item '今年'\n\\item '1'\n\\item '月'\n\\item '30'\n\\item '日起'\n\\item '公費'\n\\item '流感疫苗'\n\\item '擴大'\n\\item '提供'\n\\item '全國'\n\\item '6'\n\\item '月'\n\\item '以上'\n\\item '尚未'\n\\item '接種'\n\\item '的'\n\\item '本'\n\\item '國籍'\n\\item '民眾'\n\\item '接種'\n\\item '如為'\n\\item '外籍人士'\n\\item '需為'\n\\item '申請'\n\\item '中'\n\\item '或'\n\\item '持有'\n\\item '居留證'\n\\item '包含'\n\\item '外交'\n\\item '官員證'\n\\item '國際'\n\\item '機構'\n\\item '官員證'\n\\item '及'\n\\item '外國'\n\\item '機構'\n\\item '官員證'\n\\item '至'\n\\item '疫苗'\n\\item '用罄'\n\\item '為止'\n\\item '籲請'\n\\item '尚未'\n\\item '接種'\n\\item '流感疫苗'\n\\item '的'\n\\item '民眾'\n\\item '儘速'\n\\item '完成'\n\\item '接種'\n\\item '以'\n\\item '提升'\n\\item '保護'\n\\item '力'\n\\item '保護'\n\\item '自身'\n\\item '及'\n\\item '家人'\n\\item '健康'\n\\item '此外'\n\\item '提醒'\n\\item '民眾'\n\\item '落實'\n\\item '勤洗手'\n\\item '及'\n\\item '咳嗽'\n\\item '禮節'\n\\item '等'\n\\item '衛生防護'\n\\item '措施'\n\\item '有'\n\\item '呼吸道'\n\\item '症'\n\\item '狀'\n\\item '時'\n\\item '應'\n\\item '佩戴'\n\\item '口罩'\n\\item '打噴嚏'\n\\item '時'\n\\item '應用'\n\\item '面紙'\n\\item '或'\n\\item '手帕'\n\\item '遮住'\n\\item '口'\n\\item '鼻'\n\\item '或用'\n\\item '衣袖'\n\\item '代替'\n\\item '與'\n\\item '他人'\n\\item '交談'\n\\item '時'\n\\item '請'\n\\item '保持'\n\\item '安全'\n\\item '社交'\n\\item '距離'\n\\item '民眾'\n\\item '如有'\n\\item '類流感'\n\\item '症狀'\n\\item '應'\n\\item '就近'\n\\item '就醫'\n\\item '並'\n\\item '充分'\n\\item '休息'\n\\item '以'\n\\item '降低'\n\\item '病毒傳播'\n\\item '的'\n\\item '機會'\n\\end{enumerate*}\n",
            "text/markdown": "1. '疾病管制署'\n2. '公布'\n3. '我國'\n4. '本'\n5. '流感季'\n6. '2020'\n7. '年'\n8. '10'\n9. '月'\n10. '以來'\n11. '首例'\n12. '流感'\n13. '併發'\n14. '重症'\n15. '死亡'\n16. '病例'\n17. '近期'\n18. '國內'\n19. '流感'\n20. '疫情'\n21. '雖'\n22. '低點'\n23. '提醒'\n24. '民眾'\n25. '仍'\n26. '應'\n27. '做好'\n28. '個人'\n29. '手部'\n30. '及'\n31. '呼吸道'\n32. '衛生'\n33. '並'\n34. '留意'\n35. '自身'\n36. '及'\n37. '親友'\n38. '健康'\n39. '情形'\n40. '尚未'\n41. '接種'\n42. '流感疫苗'\n43. '的'\n44. '民眾'\n45. '應'\n46. '儘快'\n47. '接種'\n48. '以'\n49. '降低'\n50. '流感病毒'\n51. '對'\n52. '健康'\n53. '的'\n54. '威脅'\n55. '疾管署'\n56. '表示'\n57. '新增'\n58. '流感'\n59. '併發'\n60. '重症'\n61. '死亡'\n62. '病例'\n63. '為'\n64. '80'\n65. '多歲'\n66. '男性'\n67. '有'\n68. '慢性病'\n69. '史'\n70. '接種'\n71. '流感疫苗'\n72. '今'\n73. '2021'\n74. '年'\n75. '3'\n76. '月'\n77. '21'\n78. '日因'\n79. '嘔吐'\n80. '呼吸'\n81. '急促'\n82. '就醫'\n83. '並'\n84. '收治'\n85. '住院'\n86. '經'\n87. '診斷'\n88. '有'\n89. '吸入性'\n90. '肺炎'\n91. '等'\n92. '情形'\n93. '轉至'\n94. '加護'\n95. '病房'\n96. '治療'\n97. '3'\n98. '月'\n99. '25'\n100. '日'\n101. '通報'\n102. '因'\n103. '檢出'\n104. 'A型'\n105. '流感'\n106. '3'\n107. '月'\n108. '27'\n109. '日'\n110. '研判'\n111. '為'\n112. '流感'\n113. '併發'\n114. '重症'\n115. '同日'\n116. '個案'\n117. '病情惡化'\n118. '不幸'\n119. '病逝'\n120. '依據'\n121. '疾管署'\n122. '監測'\n123. '資料'\n124. '顯示'\n125. '上週'\n126. '3'\n127. '月'\n128. '21'\n129. '日至'\n130. '3'\n131. '月'\n132. '27'\n133. '日'\n134. '國內'\n135. '類流感'\n136. '門急診'\n137. '就診'\n138. '共'\n139. '29'\n140. '261'\n141. '人次'\n142. '近期'\n143. '處'\n144. '低點'\n145. '近'\n146. '4'\n147. '週'\n148. '社區'\n149. '呼吸道'\n150. '病毒'\n151. '分離'\n152. '以'\n153. '腺病毒'\n154. '為'\n155. '多'\n156. '其次'\n157. '為'\n158. '單純'\n159. '疱疹病毒'\n160. '及'\n161. '副'\n162. '流感病毒'\n163. '國內'\n164. '自去'\n165. '2020'\n166. '年'\n167. '10'\n168. '月'\n169. '迄今'\n170. '累計'\n171. '2'\n172. '例'\n173. '流感'\n174. '併發'\n175. '重症'\n176. '病例'\n177. '分別'\n178. '感染'\n179. 'H3N2'\n180. 'A型'\n181. '待'\n182. '分型'\n183. '死亡'\n184. '病例'\n185. '累計'\n186. '1'\n187. '例'\n188. '重症'\n189. '病'\n190. '例數'\n191. '及'\n192. '死亡'\n193. '病'\n194. '例數'\n195. '均'\n196. '明顯'\n197. '低於'\n198. '前'\n199. '4'\n200. '流感季'\n201. '同期'\n202. '同期'\n203. '病'\n204. '例數'\n205. '為'\n206. '360'\n207. '至'\n208. '966'\n209. '例'\n210. '死亡'\n211. '病'\n212. '例數'\n213. '為'\n214. '56'\n215. '至'\n216. '159'\n217. '例'\n218. '截至'\n219. '今年'\n220. '3'\n221. '月'\n222. '28'\n223. '日'\n224. '本'\n225. '流感季'\n226. '公費'\n227. '流感疫苗'\n228. '總接'\n229. '種數'\n230. '約'\n231. '619.3'\n232. '萬劑'\n233. '65'\n234. '歲'\n235. '以上'\n236. '長者'\n237. '接種率'\n238. '52.5'\n239. '學齡前'\n240. '幼兒'\n241. '接種率'\n242. '51.1'\n243. '我國'\n244. '自'\n245. '今年'\n246. '1'\n247. '月'\n248. '30'\n249. '日起'\n250. '公費'\n251. '流感疫苗'\n252. '擴大'\n253. '提供'\n254. '全國'\n255. '6'\n256. '月'\n257. '以上'\n258. '尚未'\n259. '接種'\n260. '的'\n261. '本'\n262. '國籍'\n263. '民眾'\n264. '接種'\n265. '如為'\n266. '外籍人士'\n267. '需為'\n268. '申請'\n269. '中'\n270. '或'\n271. '持有'\n272. '居留證'\n273. '包含'\n274. '外交'\n275. '官員證'\n276. '國際'\n277. '機構'\n278. '官員證'\n279. '及'\n280. '外國'\n281. '機構'\n282. '官員證'\n283. '至'\n284. '疫苗'\n285. '用罄'\n286. '為止'\n287. '籲請'\n288. '尚未'\n289. '接種'\n290. '流感疫苗'\n291. '的'\n292. '民眾'\n293. '儘速'\n294. '完成'\n295. '接種'\n296. '以'\n297. '提升'\n298. '保護'\n299. '力'\n300. '保護'\n301. '自身'\n302. '及'\n303. '家人'\n304. '健康'\n305. '此外'\n306. '提醒'\n307. '民眾'\n308. '落實'\n309. '勤洗手'\n310. '及'\n311. '咳嗽'\n312. '禮節'\n313. '等'\n314. '衛生防護'\n315. '措施'\n316. '有'\n317. '呼吸道'\n318. '症'\n319. '狀'\n320. '時'\n321. '應'\n322. '佩戴'\n323. '口罩'\n324. '打噴嚏'\n325. '時'\n326. '應用'\n327. '面紙'\n328. '或'\n329. '手帕'\n330. '遮住'\n331. '口'\n332. '鼻'\n333. '或用'\n334. '衣袖'\n335. '代替'\n336. '與'\n337. '他人'\n338. '交談'\n339. '時'\n340. '請'\n341. '保持'\n342. '安全'\n343. '社交'\n344. '距離'\n345. '民眾'\n346. '如有'\n347. '類流感'\n348. '症狀'\n349. '應'\n350. '就近'\n351. '就醫'\n352. '並'\n353. '充分'\n354. '休息'\n355. '以'\n356. '降低'\n357. '病毒傳播'\n358. '的'\n359. '機會'\n\n\n",
            "text/html": [
              "<style>\n",
              ".list-inline {list-style: none; margin:0; padding: 0}\n",
              ".list-inline>li {display: inline-block}\n",
              ".list-inline>li:not(:last-child)::after {content: \"\\00b7\"; padding: 0 .5ex}\n",
              "</style>\n",
              "<ol class=list-inline><li>'疾病管制署'</li><li>'公布'</li><li>'我國'</li><li>'本'</li><li>'流感季'</li><li>'2020'</li><li>'年'</li><li>'10'</li><li>'月'</li><li>'以來'</li><li>'首例'</li><li>'流感'</li><li>'併發'</li><li>'重症'</li><li>'死亡'</li><li>'病例'</li><li>'近期'</li><li>'國內'</li><li>'流感'</li><li>'疫情'</li><li>'雖'</li><li>'低點'</li><li>'提醒'</li><li>'民眾'</li><li>'仍'</li><li>'應'</li><li>'做好'</li><li>'個人'</li><li>'手部'</li><li>'及'</li><li>'呼吸道'</li><li>'衛生'</li><li>'並'</li><li>'留意'</li><li>'自身'</li><li>'及'</li><li>'親友'</li><li>'健康'</li><li>'情形'</li><li>'尚未'</li><li>'接種'</li><li>'流感疫苗'</li><li>'的'</li><li>'民眾'</li><li>'應'</li><li>'儘快'</li><li>'接種'</li><li>'以'</li><li>'降低'</li><li>'流感病毒'</li><li>'對'</li><li>'健康'</li><li>'的'</li><li>'威脅'</li><li>'疾管署'</li><li>'表示'</li><li>'新增'</li><li>'流感'</li><li>'併發'</li><li>'重症'</li><li>'死亡'</li><li>'病例'</li><li>'為'</li><li>'80'</li><li>'多歲'</li><li>'男性'</li><li>'有'</li><li>'慢性病'</li><li>'史'</li><li>'接種'</li><li>'流感疫苗'</li><li>'今'</li><li>'2021'</li><li>'年'</li><li>'3'</li><li>'月'</li><li>'21'</li><li>'日因'</li><li>'嘔吐'</li><li>'呼吸'</li><li>'急促'</li><li>'就醫'</li><li>'並'</li><li>'收治'</li><li>'住院'</li><li>'經'</li><li>'診斷'</li><li>'有'</li><li>'吸入性'</li><li>'肺炎'</li><li>'等'</li><li>'情形'</li><li>'轉至'</li><li>'加護'</li><li>'病房'</li><li>'治療'</li><li>'3'</li><li>'月'</li><li>'25'</li><li>'日'</li><li>'通報'</li><li>'因'</li><li>'檢出'</li><li>'A型'</li><li>'流感'</li><li>'3'</li><li>'月'</li><li>'27'</li><li>'日'</li><li>'研判'</li><li>'為'</li><li>'流感'</li><li>'併發'</li><li>'重症'</li><li>'同日'</li><li>'個案'</li><li>'病情惡化'</li><li>'不幸'</li><li>'病逝'</li><li>'依據'</li><li>'疾管署'</li><li>'監測'</li><li>'資料'</li><li>'顯示'</li><li>'上週'</li><li>'3'</li><li>'月'</li><li>'21'</li><li>'日至'</li><li>'3'</li><li>'月'</li><li>'27'</li><li>'日'</li><li>'國內'</li><li>'類流感'</li><li>'門急診'</li><li>'就診'</li><li>'共'</li><li>'29'</li><li>'261'</li><li>'人次'</li><li>'近期'</li><li>'處'</li><li>'低點'</li><li>'近'</li><li>'4'</li><li>'週'</li><li>'社區'</li><li>'呼吸道'</li><li>'病毒'</li><li>'分離'</li><li>'以'</li><li>'腺病毒'</li><li>'為'</li><li>'多'</li><li>'其次'</li><li>'為'</li><li>'單純'</li><li>'疱疹病毒'</li><li>'及'</li><li>'副'</li><li>'流感病毒'</li><li>'國內'</li><li>'自去'</li><li>'2020'</li><li>'年'</li><li>'10'</li><li>'月'</li><li>'迄今'</li><li>'累計'</li><li>'2'</li><li>'例'</li><li>'流感'</li><li>'併發'</li><li>'重症'</li><li>'病例'</li><li>'分別'</li><li>'感染'</li><li>'H3N2'</li><li>'A型'</li><li>'待'</li><li>'分型'</li><li>'死亡'</li><li>'病例'</li><li>'累計'</li><li>'1'</li><li>'例'</li><li>'重症'</li><li>'病'</li><li>'例數'</li><li>'及'</li><li>'死亡'</li><li>'病'</li><li>'例數'</li><li>'均'</li><li>'明顯'</li><li>'低於'</li><li>'前'</li><li>'4'</li><li>'流感季'</li><li>'同期'</li><li>'同期'</li><li>'病'</li><li>'例數'</li><li>'為'</li><li>'360'</li><li>'至'</li><li>'966'</li><li>'例'</li><li>'死亡'</li><li>'病'</li><li>'例數'</li><li>'為'</li><li>'56'</li><li>'至'</li><li>'159'</li><li>'例'</li><li>'截至'</li><li>'今年'</li><li>'3'</li><li>'月'</li><li>'28'</li><li>'日'</li><li>'本'</li><li>'流感季'</li><li>'公費'</li><li>'流感疫苗'</li><li>'總接'</li><li>'種數'</li><li>'約'</li><li>'619.3'</li><li>'萬劑'</li><li>'65'</li><li>'歲'</li><li>'以上'</li><li>'長者'</li><li>'接種率'</li><li>'52.5'</li><li>'學齡前'</li><li>'幼兒'</li><li>'接種率'</li><li>'51.1'</li><li>'我國'</li><li>'自'</li><li>'今年'</li><li>'1'</li><li>'月'</li><li>'30'</li><li>'日起'</li><li>'公費'</li><li>'流感疫苗'</li><li>'擴大'</li><li>'提供'</li><li>'全國'</li><li>'6'</li><li>'月'</li><li>'以上'</li><li>'尚未'</li><li>'接種'</li><li>'的'</li><li>'本'</li><li>'國籍'</li><li>'民眾'</li><li>'接種'</li><li>'如為'</li><li>'外籍人士'</li><li>'需為'</li><li>'申請'</li><li>'中'</li><li>'或'</li><li>'持有'</li><li>'居留證'</li><li>'包含'</li><li>'外交'</li><li>'官員證'</li><li>'國際'</li><li>'機構'</li><li>'官員證'</li><li>'及'</li><li>'外國'</li><li>'機構'</li><li>'官員證'</li><li>'至'</li><li>'疫苗'</li><li>'用罄'</li><li>'為止'</li><li>'籲請'</li><li>'尚未'</li><li>'接種'</li><li>'流感疫苗'</li><li>'的'</li><li>'民眾'</li><li>'儘速'</li><li>'完成'</li><li>'接種'</li><li>'以'</li><li>'提升'</li><li>'保護'</li><li>'力'</li><li>'保護'</li><li>'自身'</li><li>'及'</li><li>'家人'</li><li>'健康'</li><li>'此外'</li><li>'提醒'</li><li>'民眾'</li><li>'落實'</li><li>'勤洗手'</li><li>'及'</li><li>'咳嗽'</li><li>'禮節'</li><li>'等'</li><li>'衛生防護'</li><li>'措施'</li><li>'有'</li><li>'呼吸道'</li><li>'症'</li><li>'狀'</li><li>'時'</li><li>'應'</li><li>'佩戴'</li><li>'口罩'</li><li>'打噴嚏'</li><li>'時'</li><li>'應用'</li><li>'面紙'</li><li>'或'</li><li>'手帕'</li><li>'遮住'</li><li>'口'</li><li>'鼻'</li><li>'或用'</li><li>'衣袖'</li><li>'代替'</li><li>'與'</li><li>'他人'</li><li>'交談'</li><li>'時'</li><li>'請'</li><li>'保持'</li><li>'安全'</li><li>'社交'</li><li>'距離'</li><li>'民眾'</li><li>'如有'</li><li>'類流感'</li><li>'症狀'</li><li>'應'</li><li>'就近'</li><li>'就醫'</li><li>'並'</li><li>'充分'</li><li>'休息'</li><li>'以'</li><li>'降低'</li><li>'病毒傳播'</li><li>'的'</li><li>'機會'</li></ol>\n"
            ]
          },
          "metadata": {
            "tags": []
          }
        }
      ]
    },
    {
      "cell_type": "code",
      "metadata": {
        "id": "7J9mpNY4PCpt"
      },
      "source": [
        "txt_freq<-freq(seg_words)"
      ],
      "execution_count": null,
      "outputs": []
    },
    {
      "cell_type": "code",
      "metadata": {
        "id": "D76tOm-NRXbn"
      },
      "source": [
        "txt_freq<-arrange(txt_freq,desc(freq))"
      ],
      "execution_count": null,
      "outputs": []
    },
    {
      "cell_type": "code",
      "metadata": {
        "colab": {
          "base_uri": "https://localhost:8080/",
          "height": 281
        },
        "id": "AvbxeOUlPCsO",
        "outputId": "a150b132-6e0a-4e6f-ddae-102876cd6362"
      },
      "source": [
        "head(txt_freq)"
      ],
      "execution_count": null,
      "outputs": [
        {
          "output_type": "display_data",
          "data": {
            "text/plain": [
              "  char freq\n",
              "1 月   10  \n",
              "2 及    7  \n",
              "3 接種  7  \n",
              "4 3     6  \n",
              "5 民眾  6  \n",
              "6 流感  6  "
            ],
            "text/latex": "A data.frame: 6 × 2\n\\begin{tabular}{r|ll}\n  & char & freq\\\\\n  & <chr> & <dbl>\\\\\n\\hline\n\t1 & 月   & 10\\\\\n\t2 & 及   &  7\\\\\n\t3 & 接種 &  7\\\\\n\t4 & 3    &  6\\\\\n\t5 & 民眾 &  6\\\\\n\t6 & 流感 &  6\\\\\n\\end{tabular}\n",
            "text/markdown": "\nA data.frame: 6 × 2\n\n| <!--/--> | char &lt;chr&gt; | freq &lt;dbl&gt; |\n|---|---|---|\n| 1 | 月   | 10 |\n| 2 | 及   |  7 |\n| 3 | 接種 |  7 |\n| 4 | 3    |  6 |\n| 5 | 民眾 |  6 |\n| 6 | 流感 |  6 |\n\n",
            "text/html": [
              "<table class=\"dataframe\">\n",
              "<caption>A data.frame: 6 × 2</caption>\n",
              "<thead>\n",
              "\t<tr><th></th><th scope=col>char</th><th scope=col>freq</th></tr>\n",
              "\t<tr><th></th><th scope=col>&lt;chr&gt;</th><th scope=col>&lt;dbl&gt;</th></tr>\n",
              "</thead>\n",
              "<tbody>\n",
              "\t<tr><th scope=row>1</th><td>月  </td><td>10</td></tr>\n",
              "\t<tr><th scope=row>2</th><td>及  </td><td> 7</td></tr>\n",
              "\t<tr><th scope=row>3</th><td>接種</td><td> 7</td></tr>\n",
              "\t<tr><th scope=row>4</th><td>3   </td><td> 6</td></tr>\n",
              "\t<tr><th scope=row>5</th><td>民眾</td><td> 6</td></tr>\n",
              "\t<tr><th scope=row>6</th><td>流感</td><td> 6</td></tr>\n",
              "</tbody>\n",
              "</table>\n"
            ]
          },
          "metadata": {
            "tags": []
          }
        }
      ]
    },
    {
      "cell_type": "code",
      "metadata": {
        "id": "tduzaBYLPCtk"
      },
      "source": [
        "par(family=(\"MicrosoftYaHei\"))"
      ],
      "execution_count": null,
      "outputs": []
    },
    {
      "cell_type": "code",
      "metadata": {
        "colab": {
          "base_uri": "https://localhost:8080/"
        },
        "id": "cvPMQFMWXGJi",
        "outputId": "17a29681-152a-4c1c-f55e-1beec6218a7b"
      },
      "source": [
        "install.packages(\"devtools\")"
      ],
      "execution_count": null,
      "outputs": [
        {
          "output_type": "stream",
          "text": [
            "Installing package into ‘/usr/local/lib/R/site-library’\n",
            "(as ‘lib’ is unspecified)\n",
            "\n"
          ],
          "name": "stderr"
        }
      ]
    },
    {
      "cell_type": "code",
      "metadata": {
        "colab": {
          "base_uri": "https://localhost:8080/"
        },
        "id": "SNve0Pw4R9hC",
        "outputId": "c8f9fd81-c948-46c6-8020-7e122e981130"
      },
      "source": [
        "install.packages(\"showtext\")"
      ],
      "execution_count": null,
      "outputs": [
        {
          "output_type": "stream",
          "text": [
            "Installing package into ‘/usr/local/lib/R/site-library’\n",
            "(as ‘lib’ is unspecified)\n",
            "\n",
            "also installing the dependencies ‘sysfonts’, ‘showtextdb’\n",
            "\n",
            "\n"
          ],
          "name": "stderr"
        }
      ]
    },
    {
      "cell_type": "code",
      "metadata": {
        "colab": {
          "base_uri": "https://localhost:8080/"
        },
        "id": "Rx_w-eM2R9jd",
        "outputId": "be1a66fa-bfce-4b62-b3f5-56f19059bf9f"
      },
      "source": [
        "library(showtext)"
      ],
      "execution_count": null,
      "outputs": [
        {
          "output_type": "stream",
          "text": [
            "Loading required package: sysfonts\n",
            "\n",
            "Loading required package: showtextdb\n",
            "\n"
          ],
          "name": "stderr"
        }
      ]
    },
    {
      "cell_type": "code",
      "metadata": {
        "colab": {
          "base_uri": "https://localhost:8080/"
        },
        "id": "Ux93_zU9R9l2",
        "outputId": "36cb5d00-aeb0-48cf-aa73-6b2df6586eb3"
      },
      "source": [
        "library(devtools)"
      ],
      "execution_count": null,
      "outputs": [
        {
          "output_type": "stream",
          "text": [
            "Loading required package: usethis\n",
            "\n"
          ],
          "name": "stderr"
        }
      ]
    },
    {
      "cell_type": "code",
      "metadata": {
        "colab": {
          "base_uri": "https://localhost:8080/"
        },
        "id": "5dRR5U9NR9n_",
        "outputId": "c5022353-3603-42bb-bbd2-cd5658ab3be3"
      },
      "source": [
        "showtext.auto(enable=TRUE)"
      ],
      "execution_count": null,
      "outputs": [
        {
          "output_type": "stream",
          "text": [
            "'showtext.auto()' is now renamed to 'showtext_auto()'\n",
            "The old version still works, but consider using the new function in future code\n",
            "\n"
          ],
          "name": "stderr"
        }
      ]
    },
    {
      "cell_type": "code",
      "metadata": {
        "colab": {
          "base_uri": "https://localhost:8080/",
          "height": 437
        },
        "id": "ZLF83RVGR9Yg",
        "outputId": "70204aa9-2a4b-4603-c49b-1c2819efcaec"
      },
      "source": [
        "wordcloud(txt_freq$char,txt_freq$freq,min.freq=2,random.order=F,\n",
        "ordered.color=F,colors=rainbow(nrow(txt_freq)))"
      ],
      "execution_count": null,
      "outputs": [
        {
          "output_type": "display_data",
          "data": {
            "image/png": "[encoded data removed]",
            "text/plain": [
              "plot without title"
            ]
          },
          "metadata": {
            "tags": [],
            "image/png": {
              "width": 420,
              "height": 420
            }
          }
        }
      ]
    }
  ]
}